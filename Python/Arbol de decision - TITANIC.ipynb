{
 "cells": [
  {
   "cell_type": "code",
   "execution_count": 174,
   "metadata": {},
   "outputs": [],
   "source": [
    "import numpy as np \n"
   ]
  },
  {
   "cell_type": "code",
   "execution_count": 175,
   "metadata": {},
   "outputs": [],
   "source": [
    "import pandas as pd\n",
    "from sklearn.tree import export_graphviz "
   ]
  },
  {
   "cell_type": "code",
   "execution_count": 176,
   "metadata": {},
   "outputs": [],
   "source": [
    "dt=pd.read_csv('titanic.csv')"
   ]
  },
  {
   "cell_type": "code",
   "execution_count": 177,
   "metadata": {},
   "outputs": [
    {
     "data": {
      "text/html": [
       "<div>\n",
       "<style scoped>\n",
       "    .dataframe tbody tr th:only-of-type {\n",
       "        vertical-align: middle;\n",
       "    }\n",
       "\n",
       "    .dataframe tbody tr th {\n",
       "        vertical-align: top;\n",
       "    }\n",
       "\n",
       "    .dataframe thead th {\n",
       "        text-align: right;\n",
       "    }\n",
       "</style>\n",
       "<table border=\"1\" class=\"dataframe\">\n",
       "  <thead>\n",
       "    <tr style=\"text-align: right;\">\n",
       "      <th></th>\n",
       "      <th>Survived</th>\n",
       "      <th>Pclass</th>\n",
       "      <th>Name</th>\n",
       "      <th>Sex</th>\n",
       "      <th>Age</th>\n",
       "      <th>Siblings/Spouses Aboard</th>\n",
       "      <th>Parents/Children Aboard</th>\n",
       "      <th>Fare</th>\n",
       "    </tr>\n",
       "  </thead>\n",
       "  <tbody>\n",
       "    <tr>\n",
       "      <th>0</th>\n",
       "      <td>0</td>\n",
       "      <td>3</td>\n",
       "      <td>Mr. Owen Harris Braund</td>\n",
       "      <td>male</td>\n",
       "      <td>22.0</td>\n",
       "      <td>1</td>\n",
       "      <td>0</td>\n",
       "      <td>7.2500</td>\n",
       "    </tr>\n",
       "    <tr>\n",
       "      <th>1</th>\n",
       "      <td>1</td>\n",
       "      <td>1</td>\n",
       "      <td>Mrs. John Bradley (Florence Briggs Thayer) Cum...</td>\n",
       "      <td>female</td>\n",
       "      <td>38.0</td>\n",
       "      <td>1</td>\n",
       "      <td>0</td>\n",
       "      <td>71.2833</td>\n",
       "    </tr>\n",
       "    <tr>\n",
       "      <th>2</th>\n",
       "      <td>1</td>\n",
       "      <td>3</td>\n",
       "      <td>Miss. Laina Heikkinen</td>\n",
       "      <td>female</td>\n",
       "      <td>26.0</td>\n",
       "      <td>0</td>\n",
       "      <td>0</td>\n",
       "      <td>7.9250</td>\n",
       "    </tr>\n",
       "    <tr>\n",
       "      <th>3</th>\n",
       "      <td>1</td>\n",
       "      <td>1</td>\n",
       "      <td>Mrs. Jacques Heath (Lily May Peel) Futrelle</td>\n",
       "      <td>female</td>\n",
       "      <td>35.0</td>\n",
       "      <td>1</td>\n",
       "      <td>0</td>\n",
       "      <td>53.1000</td>\n",
       "    </tr>\n",
       "    <tr>\n",
       "      <th>4</th>\n",
       "      <td>0</td>\n",
       "      <td>3</td>\n",
       "      <td>Mr. William Henry Allen</td>\n",
       "      <td>male</td>\n",
       "      <td>35.0</td>\n",
       "      <td>0</td>\n",
       "      <td>0</td>\n",
       "      <td>8.0500</td>\n",
       "    </tr>\n",
       "    <tr>\n",
       "      <th>5</th>\n",
       "      <td>0</td>\n",
       "      <td>3</td>\n",
       "      <td>Mr. James Moran</td>\n",
       "      <td>male</td>\n",
       "      <td>27.0</td>\n",
       "      <td>0</td>\n",
       "      <td>0</td>\n",
       "      <td>8.4583</td>\n",
       "    </tr>\n",
       "    <tr>\n",
       "      <th>6</th>\n",
       "      <td>0</td>\n",
       "      <td>1</td>\n",
       "      <td>Mr. Timothy J McCarthy</td>\n",
       "      <td>male</td>\n",
       "      <td>54.0</td>\n",
       "      <td>0</td>\n",
       "      <td>0</td>\n",
       "      <td>51.8625</td>\n",
       "    </tr>\n",
       "    <tr>\n",
       "      <th>7</th>\n",
       "      <td>0</td>\n",
       "      <td>3</td>\n",
       "      <td>Master. Gosta Leonard Palsson</td>\n",
       "      <td>male</td>\n",
       "      <td>2.0</td>\n",
       "      <td>3</td>\n",
       "      <td>1</td>\n",
       "      <td>21.0750</td>\n",
       "    </tr>\n",
       "    <tr>\n",
       "      <th>8</th>\n",
       "      <td>1</td>\n",
       "      <td>3</td>\n",
       "      <td>Mrs. Oscar W (Elisabeth Vilhelmina Berg) Johnson</td>\n",
       "      <td>female</td>\n",
       "      <td>27.0</td>\n",
       "      <td>0</td>\n",
       "      <td>2</td>\n",
       "      <td>11.1333</td>\n",
       "    </tr>\n",
       "    <tr>\n",
       "      <th>9</th>\n",
       "      <td>1</td>\n",
       "      <td>2</td>\n",
       "      <td>Mrs. Nicholas (Adele Achem) Nasser</td>\n",
       "      <td>female</td>\n",
       "      <td>14.0</td>\n",
       "      <td>1</td>\n",
       "      <td>0</td>\n",
       "      <td>30.0708</td>\n",
       "    </tr>\n",
       "  </tbody>\n",
       "</table>\n",
       "</div>"
      ],
      "text/plain": [
       "   Survived  Pclass                                               Name  \\\n",
       "0         0       3                             Mr. Owen Harris Braund   \n",
       "1         1       1  Mrs. John Bradley (Florence Briggs Thayer) Cum...   \n",
       "2         1       3                              Miss. Laina Heikkinen   \n",
       "3         1       1        Mrs. Jacques Heath (Lily May Peel) Futrelle   \n",
       "4         0       3                            Mr. William Henry Allen   \n",
       "5         0       3                                    Mr. James Moran   \n",
       "6         0       1                             Mr. Timothy J McCarthy   \n",
       "7         0       3                      Master. Gosta Leonard Palsson   \n",
       "8         1       3   Mrs. Oscar W (Elisabeth Vilhelmina Berg) Johnson   \n",
       "9         1       2                 Mrs. Nicholas (Adele Achem) Nasser   \n",
       "\n",
       "      Sex   Age  Siblings/Spouses Aboard  Parents/Children Aboard     Fare  \n",
       "0    male  22.0                        1                        0   7.2500  \n",
       "1  female  38.0                        1                        0  71.2833  \n",
       "2  female  26.0                        0                        0   7.9250  \n",
       "3  female  35.0                        1                        0  53.1000  \n",
       "4    male  35.0                        0                        0   8.0500  \n",
       "5    male  27.0                        0                        0   8.4583  \n",
       "6    male  54.0                        0                        0  51.8625  \n",
       "7    male   2.0                        3                        1  21.0750  \n",
       "8  female  27.0                        0                        2  11.1333  \n",
       "9  female  14.0                        1                        0  30.0708  "
      ]
     },
     "execution_count": 177,
     "metadata": {},
     "output_type": "execute_result"
    }
   ],
   "source": [
    "dt.head(10)"
   ]
  },
  {
   "cell_type": "code",
   "execution_count": 178,
   "metadata": {},
   "outputs": [
    {
     "data": {
      "text/plain": [
       "(887, 8)"
      ]
     },
     "execution_count": 178,
     "metadata": {},
     "output_type": "execute_result"
    }
   ],
   "source": [
    "dt.shape"
   ]
  },
  {
   "cell_type": "code",
   "execution_count": 179,
   "metadata": {},
   "outputs": [
    {
     "data": {
      "text/plain": [
       "Survived                   0\n",
       "Pclass                     0\n",
       "Name                       0\n",
       "Sex                        0\n",
       "Age                        0\n",
       "Siblings/Spouses Aboard    0\n",
       "Parents/Children Aboard    0\n",
       "Fare                       0\n",
       "dtype: int64"
      ]
     },
     "execution_count": 179,
     "metadata": {},
     "output_type": "execute_result"
    }
   ],
   "source": [
    "dt.isnull().sum()"
   ]
  },
  {
   "cell_type": "code",
   "execution_count": 180,
   "metadata": {},
   "outputs": [
    {
     "name": "stdout",
     "output_type": "stream",
     "text": [
      "<class 'pandas.core.frame.DataFrame'>\n",
      "RangeIndex: 887 entries, 0 to 886\n",
      "Data columns (total 8 columns):\n",
      " #   Column                   Non-Null Count  Dtype  \n",
      "---  ------                   --------------  -----  \n",
      " 0   Survived                 887 non-null    int64  \n",
      " 1   Pclass                   887 non-null    int64  \n",
      " 2   Name                     887 non-null    object \n",
      " 3   Sex                      887 non-null    object \n",
      " 4   Age                      887 non-null    float64\n",
      " 5   Siblings/Spouses Aboard  887 non-null    int64  \n",
      " 6   Parents/Children Aboard  887 non-null    int64  \n",
      " 7   Fare                     887 non-null    float64\n",
      "dtypes: float64(2), int64(4), object(2)\n",
      "memory usage: 55.6+ KB\n"
     ]
    }
   ],
   "source": [
    "dt.info()"
   ]
  },
  {
   "cell_type": "code",
   "execution_count": 181,
   "metadata": {},
   "outputs": [
    {
     "name": "stdout",
     "output_type": "stream",
     "text": [
      "<class 'pandas.core.frame.DataFrame'>\n",
      "RangeIndex: 887 entries, 0 to 886\n",
      "Data columns (total 8 columns):\n",
      " #   Column                   Non-Null Count  Dtype  \n",
      "---  ------                   --------------  -----  \n",
      " 0   Survived                 887 non-null    int64  \n",
      " 1   Pclass                   887 non-null    int64  \n",
      " 2   Name                     887 non-null    object \n",
      " 3   Sex                      887 non-null    object \n",
      " 4   Age                      887 non-null    int32  \n",
      " 5   Siblings/Spouses Aboard  887 non-null    int64  \n",
      " 6   Parents/Children Aboard  887 non-null    int64  \n",
      " 7   Fare                     887 non-null    float64\n",
      "dtypes: float64(1), int32(1), int64(4), object(2)\n",
      "memory usage: 52.1+ KB\n"
     ]
    }
   ],
   "source": [
    "dt.Age=dt.Age.astype(int)\n",
    "dt.info()"
   ]
  },
  {
   "cell_type": "code",
   "execution_count": 182,
   "metadata": {},
   "outputs": [],
   "source": [
    "#Discretizar columa Sexo\n",
    "dt.Sex.replace(['male','female'],[1,0],inplace=True)"
   ]
  },
  {
   "cell_type": "code",
   "execution_count": 183,
   "metadata": {},
   "outputs": [],
   "source": [
    "dt=dt.drop(['Name'],axis=1)"
   ]
  },
  {
   "cell_type": "code",
   "execution_count": 184,
   "metadata": {},
   "outputs": [],
   "source": [
    "nomCol=dt.columns.values.tolist()\n",
    "predictores=nomCol[1:]\n",
    "objetivo=nomCol[0]"
   ]
  },
  {
   "cell_type": "code",
   "execution_count": 185,
   "metadata": {},
   "outputs": [],
   "source": [
    "dt['entrenamiento']=np.random.uniform(0,1,len(dt))<=0.75"
   ]
  },
  {
   "cell_type": "code",
   "execution_count": 186,
   "metadata": {},
   "outputs": [],
   "source": [
    "dt.replace([True,False],[1,0],inplace=True)"
   ]
  },
  {
   "cell_type": "code",
   "execution_count": 187,
   "metadata": {},
   "outputs": [],
   "source": [
    "import matplotlib.pyplot as plt"
   ]
  },
  {
   "cell_type": "code",
   "execution_count": 188,
   "metadata": {},
   "outputs": [
    {
     "data": {
      "text/plain": [
       "(array([222.,   0.,   0.,   0.,   0.,   0.,   0.,   0.,   0., 665.]),\n",
       " array([0. , 0.1, 0.2, 0.3, 0.4, 0.5, 0.6, 0.7, 0.8, 0.9, 1. ]),\n",
       " <a list of 10 Patch objects>)"
      ]
     },
     "execution_count": 188,
     "metadata": {},
     "output_type": "execute_result"
    },
    {
     "data": {
      "image/png": "[encoded data removed]",
      "text/plain": [
       "<Figure size 432x288 with 1 Axes>"
      ]
     },
     "metadata": {
      "needs_background": "light"
     },
     "output_type": "display_data"
    }
   ],
   "source": [
    "plt.hist(dt.entrenamiento)"
   ]
  },
  {
   "cell_type": "code",
   "execution_count": 189,
   "metadata": {},
   "outputs": [],
   "source": [
    "entrena, prueba=dt[dt.entrenamiento==1],dt[dt.entrenamiento==0]"
   ]
  },
  {
   "cell_type": "markdown",
   "metadata": {},
   "source": [
    "## Prediccion"
   ]
  },
  {
   "cell_type": "code",
   "execution_count": 190,
   "metadata": {},
   "outputs": [],
   "source": [
    "from sklearn.tree import DecisionTreeClassifier"
   ]
  },
  {
   "cell_type": "code",
   "execution_count": 191,
   "metadata": {},
   "outputs": [
    {
     "data": {
      "text/plain": [
       "DecisionTreeClassifier(ccp_alpha=0.0, class_weight=None, criterion='entropy',\n",
       "                       max_depth=4, max_features=None, max_leaf_nodes=None,\n",
       "                       min_impurity_decrease=0.0, min_impurity_split=None,\n",
       "                       min_samples_leaf=1, min_samples_split=4,\n",
       "                       min_weight_fraction_leaf=0.0, presort='deprecated',\n",
       "                       random_state=None, splitter='best')"
      ]
     },
     "execution_count": 191,
     "metadata": {},
     "output_type": "execute_result"
    }
   ],
   "source": [
    "arbol=DecisionTreeClassifier(criterion='entropy',min_samples_split=4, max_depth=4)\n",
    "arbol.fit(entrena[predictores],entrena[objetivo])"
   ]
  },
  {
   "cell_type": "code",
   "execution_count": 192,
   "metadata": {},
   "outputs": [],
   "source": [
    "predice=arbol.predict(prueba[predictores])"
   ]
  },
  {
   "cell_type": "code",
   "execution_count": 193,
   "metadata": {},
   "outputs": [
    {
     "data": {
      "text/html": [
       "<div>\n",
       "<style scoped>\n",
       "    .dataframe tbody tr th:only-of-type {\n",
       "        vertical-align: middle;\n",
       "    }\n",
       "\n",
       "    .dataframe tbody tr th {\n",
       "        vertical-align: top;\n",
       "    }\n",
       "\n",
       "    .dataframe thead th {\n",
       "        text-align: right;\n",
       "    }\n",
       "</style>\n",
       "<table border=\"1\" class=\"dataframe\">\n",
       "  <thead>\n",
       "    <tr style=\"text-align: right;\">\n",
       "      <th>Predictions</th>\n",
       "      <th>0</th>\n",
       "      <th>1</th>\n",
       "      <th>All</th>\n",
       "    </tr>\n",
       "    <tr>\n",
       "      <th>Actual</th>\n",
       "      <th></th>\n",
       "      <th></th>\n",
       "      <th></th>\n",
       "    </tr>\n",
       "  </thead>\n",
       "  <tbody>\n",
       "    <tr>\n",
       "      <th>0</th>\n",
       "      <td>124</td>\n",
       "      <td>14</td>\n",
       "      <td>138</td>\n",
       "    </tr>\n",
       "    <tr>\n",
       "      <th>1</th>\n",
       "      <td>25</td>\n",
       "      <td>59</td>\n",
       "      <td>84</td>\n",
       "    </tr>\n",
       "    <tr>\n",
       "      <th>All</th>\n",
       "      <td>149</td>\n",
       "      <td>73</td>\n",
       "      <td>222</td>\n",
       "    </tr>\n",
       "  </tbody>\n",
       "</table>\n",
       "</div>"
      ],
      "text/plain": [
       "Predictions    0   1  All\n",
       "Actual                   \n",
       "0            124  14  138\n",
       "1             25  59   84\n",
       "All          149  73  222"
      ]
     },
     "execution_count": 193,
     "metadata": {},
     "output_type": "execute_result"
    }
   ],
   "source": [
    "res=pd.crosstab(prueba[objetivo], predice, rownames=[\"Actual\"], colnames=[\"Predictions\"],margins=True)\n",
    "res"
   ]
  },
  {
   "cell_type": "code",
   "execution_count": 194,
   "metadata": {},
   "outputs": [
    {
     "data": {
      "text/plain": [
       "0.8280542986425339"
      ]
     },
     "execution_count": 194,
     "metadata": {},
     "output_type": "execute_result"
    }
   ],
   "source": [
    "(res[0][0]+res[1][1])/221"
   ]
  },
  {
   "cell_type": "code",
   "execution_count": 195,
   "metadata": {},
   "outputs": [
    {
     "data": {
      "text/plain": [
       "0.18614718614718614"
      ]
     },
     "execution_count": 195,
     "metadata": {},
     "output_type": "execute_result"
    }
   ],
   "source": [
    "(29+14)/231"
   ]
  },
  {
   "cell_type": "markdown",
   "metadata": {},
   "source": [
    "## Visualizacion\n"
   ]
  },
  {
   "cell_type": "code",
   "execution_count": 196,
   "metadata": {},
   "outputs": [],
   "source": [
    "from sklearn.tree import export_graphviz\n"
   ]
  },
  {
   "cell_type": "code",
   "execution_count": 197,
   "metadata": {},
   "outputs": [],
   "source": [
    "with open(\"Graf_Arbol.dot\",\"w\") as dotfile:\n",
    "    export_graphviz(arbol, out_file=dotfile,feature_names=predictores)\n",
    "    dotfile.close()"
   ]
  },
  {
   "cell_type": "code",
   "execution_count": 198,
   "metadata": {},
   "outputs": [],
   "source": [
    "import os \n",
    "from graphviz import Source"
   ]
  },
  {
   "cell_type": "code",
   "execution_count": 199,
   "metadata": {},
   "outputs": [
    {
     "data": {
      "text/plain": [
       "'digraph Tree {\\nnode [shape=box] ;\\n0 [label=\"Sex <= 0.5\\\\nentropy = 0.963\\\\nsamples = 665\\\\nvalue = [407, 258]\"] ;\\n1 [label=\"Pclass <= 2.5\\\\nentropy = 0.81\\\\nsamples = 241\\\\nvalue = [60, 181]\"] ;\\n0 -> 1 [labeldistance=2.5, labelangle=45, headlabel=\"True\"] ;\\n2 [label=\"Age <= 2.5\\\\nentropy = 0.297\\\\nsamples = 133\\\\nvalue = [7, 126]\"] ;\\n1 -> 2 ;\\n3 [label=\"entropy = 1.0\\\\nsamples = 2\\\\nvalue = [1, 1]\"] ;\\n2 -> 3 ;\\n4 [label=\"Fare <= 28.856\\\\nentropy = 0.268\\\\nsamples = 131\\\\nvalue = [6, 125]\"] ;\\n2 -> 4 ;\\n5 [label=\"entropy = 0.445\\\\nsamples = 54\\\\nvalue = [5, 49]\"] ;\\n4 -> 5 ;\\n6 [label=\"entropy = 0.1\\\\nsamples = 77\\\\nvalue = [1, 76]\"] ;\\n4 -> 6 ;\\n7 [label=\"Fare <= 23.35\\\\nentropy = 1.0\\\\nsamples = 108\\\\nvalue = [53, 55]\"] ;\\n1 -> 7 ;\\n8 [label=\"Age <= 36.0\\\\nentropy = 0.965\\\\nsamples = 87\\\\nvalue = [34, 53]\"] ;\\n7 -> 8 ;\\n9 [label=\"entropy = 0.927\\\\nsamples = 79\\\\nvalue = [27, 52]\"] ;\\n8 -> 9 ;\\n10 [label=\"entropy = 0.544\\\\nsamples = 8\\\\nvalue = [7, 1]\"] ;\\n8 -> 10 ;\\n11 [label=\"Parents/Children Aboard <= 0.5\\\\nentropy = 0.454\\\\nsamples = 21\\\\nvalue = [19, 2]\"] ;\\n7 -> 11 ;\\n12 [label=\"entropy = 0.0\\\\nsamples = 1\\\\nvalue = [0, 1]\"] ;\\n11 -> 12 ;\\n13 [label=\"entropy = 0.286\\\\nsamples = 20\\\\nvalue = [19, 1]\"] ;\\n11 -> 13 ;\\n14 [label=\"Age <= 9.5\\\\nentropy = 0.684\\\\nsamples = 424\\\\nvalue = [347, 77]\"] ;\\n0 -> 14 [labeldistance=2.5, labelangle=-45, headlabel=\"False\"] ;\\n15 [label=\"Siblings/Spouses Aboard <= 2.5\\\\nentropy = 0.996\\\\nsamples = 26\\\\nvalue = [12, 14]\"] ;\\n14 -> 15 ;\\n16 [label=\"entropy = 0.0\\\\nsamples = 13\\\\nvalue = [0, 13]\"] ;\\n15 -> 16 ;\\n17 [label=\"Age <= 3.5\\\\nentropy = 0.391\\\\nsamples = 13\\\\nvalue = [12, 1]\"] ;\\n15 -> 17 ;\\n18 [label=\"entropy = 0.722\\\\nsamples = 5\\\\nvalue = [4, 1]\"] ;\\n17 -> 18 ;\\n19 [label=\"entropy = 0.0\\\\nsamples = 8\\\\nvalue = [8, 0]\"] ;\\n17 -> 19 ;\\n20 [label=\"Fare <= 26.269\\\\nentropy = 0.63\\\\nsamples = 398\\\\nvalue = [335, 63]\"] ;\\n14 -> 20 ;\\n21 [label=\"Age <= 32.5\\\\nentropy = 0.479\\\\nsamples = 291\\\\nvalue = [261, 30]\"] ;\\n20 -> 21 ;\\n22 [label=\"entropy = 0.552\\\\nsamples = 195\\\\nvalue = [170, 25]\"] ;\\n21 -> 22 ;\\n23 [label=\"entropy = 0.295\\\\nsamples = 96\\\\nvalue = [91, 5]\"] ;\\n21 -> 23 ;\\n24 [label=\"Fare <= 26.469\\\\nentropy = 0.891\\\\nsamples = 107\\\\nvalue = [74, 33]\"] ;\\n20 -> 24 ;\\n25 [label=\"entropy = 0.0\\\\nsamples = 3\\\\nvalue = [0, 3]\"] ;\\n24 -> 25 ;\\n26 [label=\"entropy = 0.867\\\\nsamples = 104\\\\nvalue = [74, 30]\"] ;\\n24 -> 26 ;\\n}'"
      ]
     },
     "execution_count": 199,
     "metadata": {},
     "output_type": "execute_result"
    }
   ],
   "source": [
    "file =open(\"Graf_Arbol.dot\",\"r\")\n",
    "texto=file.read()\n",
    "texto"
   ]
  },
  {
   "cell_type": "code",
   "execution_count": 200,
   "metadata": {},
   "outputs": [
    {
     "data": {
      "image/svg+xml": [
       "<?xml version=\"1.0\" encoding=\"UTF-8\" standalone=\"no\"?>\r\n",
       "<!DOCTYPE svg PUBLIC \"-//W3C//DTD SVG 1.1//EN\"\r\n",
       " \"http://www.w3.org/Graphics/SVG/1.1/DTD/svg11.dtd\">\r\n",
       "<!-- Generated by graphviz version 2.38.0 (20140413.2041)\r\n",
       " -->\r\n",
       "<!-- Title: Tree Pages: 1 -->\r\n",
       "<svg width=\"1434pt\" height=\"477pt\"\r\n",
       " viewBox=\"0.00 0.00 1434.00 477.00\" xmlns=\"http://www.w3.org/2000/svg\" xmlns:xlink=\"http://www.w3.org/1999/xlink\">\r\n",
       "<g id=\"graph0\" class=\"graph\" transform=\"scale(1 1) rotate(0) translate(4 473)\">\r\n",
       "<title>Tree</title>\r\n",
       "<polygon fill=\"white\" stroke=\"none\" points=\"-4,4 -4,-473 1430,-473 1430,4 -4,4\"/>\r\n",
       "<!-- 0 -->\r\n",
       "<g id=\"node1\" class=\"node\"><title>0</title>\r\n",
       "<polygon fill=\"none\" stroke=\"black\" points=\"661,-469 543,-469 543,-401 661,-401 661,-469\"/>\r\n",
       "<text text-anchor=\"middle\" x=\"602\" y=\"-453.8\" font-family=\"Times New Roman,serif\" font-size=\"14.00\">Sex &lt;= 0.5</text>\r\n",
       "<text text-anchor=\"middle\" x=\"602\" y=\"-438.8\" font-family=\"Times New Roman,serif\" font-size=\"14.00\">entropy = 0.963</text>\r\n",
       "<text text-anchor=\"middle\" x=\"602\" y=\"-423.8\" font-family=\"Times New Roman,serif\" font-size=\"14.00\">samples = 665</text>\r\n",
       "<text text-anchor=\"middle\" x=\"602\" y=\"-408.8\" font-family=\"Times New Roman,serif\" font-size=\"14.00\">value = [407, 258]</text>\r\n",
       "</g>\r\n",
       "<!-- 1 -->\r\n",
       "<g id=\"node2\" class=\"node\"><title>1</title>\r\n",
       "<polygon fill=\"none\" stroke=\"black\" points=\"530.5,-365 419.5,-365 419.5,-297 530.5,-297 530.5,-365\"/>\r\n",
       "<text text-anchor=\"middle\" x=\"475\" y=\"-349.8\" font-family=\"Times New Roman,serif\" font-size=\"14.00\">Pclass &lt;= 2.5</text>\r\n",
       "<text text-anchor=\"middle\" x=\"475\" y=\"-334.8\" font-family=\"Times New Roman,serif\" font-size=\"14.00\">entropy = 0.81</text>\r\n",
       "<text text-anchor=\"middle\" x=\"475\" y=\"-319.8\" font-family=\"Times New Roman,serif\" font-size=\"14.00\">samples = 241</text>\r\n",
       "<text text-anchor=\"middle\" x=\"475\" y=\"-304.8\" font-family=\"Times New Roman,serif\" font-size=\"14.00\">value = [60, 181]</text>\r\n",
       "</g>\r\n",
       "<!-- 0&#45;&gt;1 -->\r\n",
       "<g id=\"edge1\" class=\"edge\"><title>0&#45;&gt;1</title>\r\n",
       "<path fill=\"none\" stroke=\"black\" d=\"M560.767,-400.884C549.122,-391.531 536.333,-381.259 524.266,-371.568\"/>\r\n",
       "<polygon fill=\"black\" stroke=\"black\" points=\"526.449,-368.832 516.461,-365.299 522.066,-374.29 526.449,-368.832\"/>\r\n",
       "<text text-anchor=\"middle\" x=\"519.174\" y=\"-386.452\" font-family=\"Times New Roman,serif\" font-size=\"14.00\">True</text>\r\n",
       "</g>\r\n",
       "<!-- 14 -->\r\n",
       "<g id=\"node15\" class=\"node\"><title>14</title>\r\n",
       "<polygon fill=\"none\" stroke=\"black\" points=\"784.5,-365 673.5,-365 673.5,-297 784.5,-297 784.5,-365\"/>\r\n",
       "<text text-anchor=\"middle\" x=\"729\" y=\"-349.8\" font-family=\"Times New Roman,serif\" font-size=\"14.00\">Age &lt;= 9.5</text>\r\n",
       "<text text-anchor=\"middle\" x=\"729\" y=\"-334.8\" font-family=\"Times New Roman,serif\" font-size=\"14.00\">entropy = 0.684</text>\r\n",
       "<text text-anchor=\"middle\" x=\"729\" y=\"-319.8\" font-family=\"Times New Roman,serif\" font-size=\"14.00\">samples = 424</text>\r\n",
       "<text text-anchor=\"middle\" x=\"729\" y=\"-304.8\" font-family=\"Times New Roman,serif\" font-size=\"14.00\">value = [347, 77]</text>\r\n",
       "</g>\r\n",
       "<!-- 0&#45;&gt;14 -->\r\n",
       "<g id=\"edge14\" class=\"edge\"><title>0&#45;&gt;14</title>\r\n",
       "<path fill=\"none\" stroke=\"black\" d=\"M643.233,-400.884C654.878,-391.531 667.667,-381.259 679.734,-371.568\"/>\r\n",
       "<polygon fill=\"black\" stroke=\"black\" points=\"681.934,-374.29 687.539,-365.299 677.551,-368.832 681.934,-374.29\"/>\r\n",
       "<text text-anchor=\"middle\" x=\"684.826\" y=\"-386.452\" font-family=\"Times New Roman,serif\" font-size=\"14.00\">False</text>\r\n",
       "</g>\r\n",
       "<!-- 2 -->\r\n",
       "<g id=\"node3\" class=\"node\"><title>2</title>\r\n",
       "<polygon fill=\"none\" stroke=\"black\" points=\"226,-261 120,-261 120,-193 226,-193 226,-261\"/>\r\n",
       "<text text-anchor=\"middle\" x=\"173\" y=\"-245.8\" font-family=\"Times New Roman,serif\" font-size=\"14.00\">Age &lt;= 2.5</text>\r\n",
       "<text text-anchor=\"middle\" x=\"173\" y=\"-230.8\" font-family=\"Times New Roman,serif\" font-size=\"14.00\">entropy = 0.297</text>\r\n",
       "<text text-anchor=\"middle\" x=\"173\" y=\"-215.8\" font-family=\"Times New Roman,serif\" font-size=\"14.00\">samples = 133</text>\r\n",
       "<text text-anchor=\"middle\" x=\"173\" y=\"-200.8\" font-family=\"Times New Roman,serif\" font-size=\"14.00\">value = [7, 126]</text>\r\n",
       "</g>\r\n",
       "<!-- 1&#45;&gt;2 -->\r\n",
       "<g id=\"edge2\" class=\"edge\"><title>1&#45;&gt;2</title>\r\n",
       "<path fill=\"none\" stroke=\"black\" d=\"M419.257,-311.173C367.245,-293.606 289.748,-267.431 235.624,-249.151\"/>\r\n",
       "<polygon fill=\"black\" stroke=\"black\" points=\"236.733,-245.832 226.139,-245.948 234.493,-252.464 236.733,-245.832\"/>\r\n",
       "</g>\r\n",
       "<!-- 7 -->\r\n",
       "<g id=\"node8\" class=\"node\"><title>7</title>\r\n",
       "<polygon fill=\"none\" stroke=\"black\" points=\"527,-261 423,-261 423,-193 527,-193 527,-261\"/>\r\n",
       "<text text-anchor=\"middle\" x=\"475\" y=\"-245.8\" font-family=\"Times New Roman,serif\" font-size=\"14.00\">Fare &lt;= 23.35</text>\r\n",
       "<text text-anchor=\"middle\" x=\"475\" y=\"-230.8\" font-family=\"Times New Roman,serif\" font-size=\"14.00\">entropy = 1.0</text>\r\n",
       "<text text-anchor=\"middle\" x=\"475\" y=\"-215.8\" font-family=\"Times New Roman,serif\" font-size=\"14.00\">samples = 108</text>\r\n",
       "<text text-anchor=\"middle\" x=\"475\" y=\"-200.8\" font-family=\"Times New Roman,serif\" font-size=\"14.00\">value = [53, 55]</text>\r\n",
       "</g>\r\n",
       "<!-- 1&#45;&gt;7 -->\r\n",
       "<g id=\"edge7\" class=\"edge\"><title>1&#45;&gt;7</title>\r\n",
       "<path fill=\"none\" stroke=\"black\" d=\"M475,-296.884C475,-288.778 475,-279.982 475,-271.472\"/>\r\n",
       "<polygon fill=\"black\" stroke=\"black\" points=\"478.5,-271.299 475,-261.299 471.5,-271.299 478.5,-271.299\"/>\r\n",
       "</g>\r\n",
       "<!-- 3 -->\r\n",
       "<g id=\"node4\" class=\"node\"><title>3</title>\r\n",
       "<polygon fill=\"none\" stroke=\"black\" points=\"102,-149.5 10,-149.5 10,-96.5 102,-96.5 102,-149.5\"/>\r\n",
       "<text text-anchor=\"middle\" x=\"56\" y=\"-134.3\" font-family=\"Times New Roman,serif\" font-size=\"14.00\">entropy = 1.0</text>\r\n",
       "<text text-anchor=\"middle\" x=\"56\" y=\"-119.3\" font-family=\"Times New Roman,serif\" font-size=\"14.00\">samples = 2</text>\r\n",
       "<text text-anchor=\"middle\" x=\"56\" y=\"-104.3\" font-family=\"Times New Roman,serif\" font-size=\"14.00\">value = [1, 1]</text>\r\n",
       "</g>\r\n",
       "<!-- 2&#45;&gt;3 -->\r\n",
       "<g id=\"edge3\" class=\"edge\"><title>2&#45;&gt;3</title>\r\n",
       "<path fill=\"none\" stroke=\"black\" d=\"M135.013,-192.884C121.515,-181.116 106.349,-167.894 92.9391,-156.203\"/>\r\n",
       "<polygon fill=\"black\" stroke=\"black\" points=\"95.1106,-153.453 85.2729,-149.52 90.5106,-158.73 95.1106,-153.453\"/>\r\n",
       "</g>\r\n",
       "<!-- 4 -->\r\n",
       "<g id=\"node5\" class=\"node\"><title>4</title>\r\n",
       "<polygon fill=\"none\" stroke=\"black\" points=\"226,-157 120,-157 120,-89 226,-89 226,-157\"/>\r\n",
       "<text text-anchor=\"middle\" x=\"173\" y=\"-141.8\" font-family=\"Times New Roman,serif\" font-size=\"14.00\">Fare &lt;= 28.856</text>\r\n",
       "<text text-anchor=\"middle\" x=\"173\" y=\"-126.8\" font-family=\"Times New Roman,serif\" font-size=\"14.00\">entropy = 0.268</text>\r\n",
       "<text text-anchor=\"middle\" x=\"173\" y=\"-111.8\" font-family=\"Times New Roman,serif\" font-size=\"14.00\">samples = 131</text>\r\n",
       "<text text-anchor=\"middle\" x=\"173\" y=\"-96.8\" font-family=\"Times New Roman,serif\" font-size=\"14.00\">value = [6, 125]</text>\r\n",
       "</g>\r\n",
       "<!-- 2&#45;&gt;4 -->\r\n",
       "<g id=\"edge4\" class=\"edge\"><title>2&#45;&gt;4</title>\r\n",
       "<path fill=\"none\" stroke=\"black\" d=\"M173,-192.884C173,-184.778 173,-175.982 173,-167.472\"/>\r\n",
       "<polygon fill=\"black\" stroke=\"black\" points=\"176.5,-167.299 173,-157.299 169.5,-167.299 176.5,-167.299\"/>\r\n",
       "</g>\r\n",
       "<!-- 5 -->\r\n",
       "<g id=\"node6\" class=\"node\"><title>5</title>\r\n",
       "<polygon fill=\"none\" stroke=\"black\" points=\"106,-53 0,-53 0,-0 106,-0 106,-53\"/>\r\n",
       "<text text-anchor=\"middle\" x=\"53\" y=\"-37.8\" font-family=\"Times New Roman,serif\" font-size=\"14.00\">entropy = 0.445</text>\r\n",
       "<text text-anchor=\"middle\" x=\"53\" y=\"-22.8\" font-family=\"Times New Roman,serif\" font-size=\"14.00\">samples = 54</text>\r\n",
       "<text text-anchor=\"middle\" x=\"53\" y=\"-7.8\" font-family=\"Times New Roman,serif\" font-size=\"14.00\">value = [5, 49]</text>\r\n",
       "</g>\r\n",
       "<!-- 4&#45;&gt;5 -->\r\n",
       "<g id=\"edge5\" class=\"edge\"><title>4&#45;&gt;5</title>\r\n",
       "<path fill=\"none\" stroke=\"black\" d=\"M131.03,-88.9485C118.949,-79.4346 105.792,-69.074 93.7842,-59.6175\"/>\r\n",
       "<polygon fill=\"black\" stroke=\"black\" points=\"95.7033,-56.6739 85.6815,-53.2367 91.3725,-62.1734 95.7033,-56.6739\"/>\r\n",
       "</g>\r\n",
       "<!-- 6 -->\r\n",
       "<g id=\"node7\" class=\"node\"><title>6</title>\r\n",
       "<polygon fill=\"none\" stroke=\"black\" points=\"222,-53 124,-53 124,-0 222,-0 222,-53\"/>\r\n",
       "<text text-anchor=\"middle\" x=\"173\" y=\"-37.8\" font-family=\"Times New Roman,serif\" font-size=\"14.00\">entropy = 0.1</text>\r\n",
       "<text text-anchor=\"middle\" x=\"173\" y=\"-22.8\" font-family=\"Times New Roman,serif\" font-size=\"14.00\">samples = 77</text>\r\n",
       "<text text-anchor=\"middle\" x=\"173\" y=\"-7.8\" font-family=\"Times New Roman,serif\" font-size=\"14.00\">value = [1, 76]</text>\r\n",
       "</g>\r\n",
       "<!-- 4&#45;&gt;6 -->\r\n",
       "<g id=\"edge6\" class=\"edge\"><title>4&#45;&gt;6</title>\r\n",
       "<path fill=\"none\" stroke=\"black\" d=\"M173,-88.9485C173,-80.7153 173,-71.848 173,-63.4814\"/>\r\n",
       "<polygon fill=\"black\" stroke=\"black\" points=\"176.5,-63.2367 173,-53.2367 169.5,-63.2367 176.5,-63.2367\"/>\r\n",
       "</g>\r\n",
       "<!-- 8 -->\r\n",
       "<g id=\"node9\" class=\"node\"><title>8</title>\r\n",
       "<polygon fill=\"none\" stroke=\"black\" points=\"443,-157 337,-157 337,-89 443,-89 443,-157\"/>\r\n",
       "<text text-anchor=\"middle\" x=\"390\" y=\"-141.8\" font-family=\"Times New Roman,serif\" font-size=\"14.00\">Age &lt;= 36.0</text>\r\n",
       "<text text-anchor=\"middle\" x=\"390\" y=\"-126.8\" font-family=\"Times New Roman,serif\" font-size=\"14.00\">entropy = 0.965</text>\r\n",
       "<text text-anchor=\"middle\" x=\"390\" y=\"-111.8\" font-family=\"Times New Roman,serif\" font-size=\"14.00\">samples = 87</text>\r\n",
       "<text text-anchor=\"middle\" x=\"390\" y=\"-96.8\" font-family=\"Times New Roman,serif\" font-size=\"14.00\">value = [34, 53]</text>\r\n",
       "</g>\r\n",
       "<!-- 7&#45;&gt;8 -->\r\n",
       "<g id=\"edge8\" class=\"edge\"><title>7&#45;&gt;8</title>\r\n",
       "<path fill=\"none\" stroke=\"black\" d=\"M447.403,-192.884C440.054,-184.065 432.025,-174.43 424.363,-165.235\"/>\r\n",
       "<polygon fill=\"black\" stroke=\"black\" points=\"426.84,-162.741 417.749,-157.299 421.463,-167.222 426.84,-162.741\"/>\r\n",
       "</g>\r\n",
       "<!-- 11 -->\r\n",
       "<g id=\"node12\" class=\"node\"><title>11</title>\r\n",
       "<polygon fill=\"none\" stroke=\"black\" points=\"658.5,-157 461.5,-157 461.5,-89 658.5,-89 658.5,-157\"/>\r\n",
       "<text text-anchor=\"middle\" x=\"560\" y=\"-141.8\" font-family=\"Times New Roman,serif\" font-size=\"14.00\">Parents/Children Aboard &lt;= 0.5</text>\r\n",
       "<text text-anchor=\"middle\" x=\"560\" y=\"-126.8\" font-family=\"Times New Roman,serif\" font-size=\"14.00\">entropy = 0.454</text>\r\n",
       "<text text-anchor=\"middle\" x=\"560\" y=\"-111.8\" font-family=\"Times New Roman,serif\" font-size=\"14.00\">samples = 21</text>\r\n",
       "<text text-anchor=\"middle\" x=\"560\" y=\"-96.8\" font-family=\"Times New Roman,serif\" font-size=\"14.00\">value = [19, 2]</text>\r\n",
       "</g>\r\n",
       "<!-- 7&#45;&gt;11 -->\r\n",
       "<g id=\"edge11\" class=\"edge\"><title>7&#45;&gt;11</title>\r\n",
       "<path fill=\"none\" stroke=\"black\" d=\"M502.597,-192.884C509.946,-184.065 517.975,-174.43 525.637,-165.235\"/>\r\n",
       "<polygon fill=\"black\" stroke=\"black\" points=\"528.537,-167.222 532.251,-157.299 523.16,-162.741 528.537,-167.222\"/>\r\n",
       "</g>\r\n",
       "<!-- 9 -->\r\n",
       "<g id=\"node10\" class=\"node\"><title>9</title>\r\n",
       "<polygon fill=\"none\" stroke=\"black\" points=\"346,-53 240,-53 240,-0 346,-0 346,-53\"/>\r\n",
       "<text text-anchor=\"middle\" x=\"293\" y=\"-37.8\" font-family=\"Times New Roman,serif\" font-size=\"14.00\">entropy = 0.927</text>\r\n",
       "<text text-anchor=\"middle\" x=\"293\" y=\"-22.8\" font-family=\"Times New Roman,serif\" font-size=\"14.00\">samples = 79</text>\r\n",
       "<text text-anchor=\"middle\" x=\"293\" y=\"-7.8\" font-family=\"Times New Roman,serif\" font-size=\"14.00\">value = [27, 52]</text>\r\n",
       "</g>\r\n",
       "<!-- 8&#45;&gt;9 -->\r\n",
       "<g id=\"edge9\" class=\"edge\"><title>8&#45;&gt;9</title>\r\n",
       "<path fill=\"none\" stroke=\"black\" d=\"M356.074,-88.9485C346.59,-79.709 336.287,-69.671 326.809,-60.4381\"/>\r\n",
       "<polygon fill=\"black\" stroke=\"black\" points=\"329.023,-57.7079 319.418,-53.2367 324.138,-62.7219 329.023,-57.7079\"/>\r\n",
       "</g>\r\n",
       "<!-- 10 -->\r\n",
       "<g id=\"node11\" class=\"node\"><title>10</title>\r\n",
       "<polygon fill=\"none\" stroke=\"black\" points=\"470,-53 364,-53 364,-0 470,-0 470,-53\"/>\r\n",
       "<text text-anchor=\"middle\" x=\"417\" y=\"-37.8\" font-family=\"Times New Roman,serif\" font-size=\"14.00\">entropy = 0.544</text>\r\n",
       "<text text-anchor=\"middle\" x=\"417\" y=\"-22.8\" font-family=\"Times New Roman,serif\" font-size=\"14.00\">samples = 8</text>\r\n",
       "<text text-anchor=\"middle\" x=\"417\" y=\"-7.8\" font-family=\"Times New Roman,serif\" font-size=\"14.00\">value = [7, 1]</text>\r\n",
       "</g>\r\n",
       "<!-- 8&#45;&gt;10 -->\r\n",
       "<g id=\"edge10\" class=\"edge\"><title>8&#45;&gt;10</title>\r\n",
       "<path fill=\"none\" stroke=\"black\" d=\"M399.443,-88.9485C401.848,-80.5323 404.442,-71.4536 406.879,-62.9243\"/>\r\n",
       "<polygon fill=\"black\" stroke=\"black\" points=\"410.265,-63.8135 409.647,-53.2367 403.534,-61.8904 410.265,-63.8135\"/>\r\n",
       "</g>\r\n",
       "<!-- 12 -->\r\n",
       "<g id=\"node13\" class=\"node\"><title>12</title>\r\n",
       "<polygon fill=\"none\" stroke=\"black\" points=\"580,-53 488,-53 488,-0 580,-0 580,-53\"/>\r\n",
       "<text text-anchor=\"middle\" x=\"534\" y=\"-37.8\" font-family=\"Times New Roman,serif\" font-size=\"14.00\">entropy = 0.0</text>\r\n",
       "<text text-anchor=\"middle\" x=\"534\" y=\"-22.8\" font-family=\"Times New Roman,serif\" font-size=\"14.00\">samples = 1</text>\r\n",
       "<text text-anchor=\"middle\" x=\"534\" y=\"-7.8\" font-family=\"Times New Roman,serif\" font-size=\"14.00\">value = [0, 1]</text>\r\n",
       "</g>\r\n",
       "<!-- 11&#45;&gt;12 -->\r\n",
       "<g id=\"edge12\" class=\"edge\"><title>11&#45;&gt;12</title>\r\n",
       "<path fill=\"none\" stroke=\"black\" d=\"M550.906,-88.9485C548.591,-80.5323 546.093,-71.4536 543.746,-62.9243\"/>\r\n",
       "<polygon fill=\"black\" stroke=\"black\" points=\"547.108,-61.9499 541.081,-53.2367 540.359,-63.8069 547.108,-61.9499\"/>\r\n",
       "</g>\r\n",
       "<!-- 13 -->\r\n",
       "<g id=\"node14\" class=\"node\"><title>13</title>\r\n",
       "<polygon fill=\"none\" stroke=\"black\" points=\"704,-53 598,-53 598,-0 704,-0 704,-53\"/>\r\n",
       "<text text-anchor=\"middle\" x=\"651\" y=\"-37.8\" font-family=\"Times New Roman,serif\" font-size=\"14.00\">entropy = 0.286</text>\r\n",
       "<text text-anchor=\"middle\" x=\"651\" y=\"-22.8\" font-family=\"Times New Roman,serif\" font-size=\"14.00\">samples = 20</text>\r\n",
       "<text text-anchor=\"middle\" x=\"651\" y=\"-7.8\" font-family=\"Times New Roman,serif\" font-size=\"14.00\">value = [19, 1]</text>\r\n",
       "</g>\r\n",
       "<!-- 11&#45;&gt;13 -->\r\n",
       "<g id=\"edge13\" class=\"edge\"><title>11&#45;&gt;13</title>\r\n",
       "<path fill=\"none\" stroke=\"black\" d=\"M591.827,-88.9485C600.637,-79.8005 610.2,-69.8697 619.018,-60.7126\"/>\r\n",
       "<polygon fill=\"black\" stroke=\"black\" points=\"621.801,-62.8677 626.217,-53.2367 616.759,-58.0122 621.801,-62.8677\"/>\r\n",
       "</g>\r\n",
       "<!-- 15 -->\r\n",
       "<g id=\"node16\" class=\"node\"><title>15</title>\r\n",
       "<polygon fill=\"none\" stroke=\"black\" points=\"829,-261 629,-261 629,-193 829,-193 829,-261\"/>\r\n",
       "<text text-anchor=\"middle\" x=\"729\" y=\"-245.8\" font-family=\"Times New Roman,serif\" font-size=\"14.00\">Siblings/Spouses Aboard &lt;= 2.5</text>\r\n",
       "<text text-anchor=\"middle\" x=\"729\" y=\"-230.8\" font-family=\"Times New Roman,serif\" font-size=\"14.00\">entropy = 0.996</text>\r\n",
       "<text text-anchor=\"middle\" x=\"729\" y=\"-215.8\" font-family=\"Times New Roman,serif\" font-size=\"14.00\">samples = 26</text>\r\n",
       "<text text-anchor=\"middle\" x=\"729\" y=\"-200.8\" font-family=\"Times New Roman,serif\" font-size=\"14.00\">value = [12, 14]</text>\r\n",
       "</g>\r\n",
       "<!-- 14&#45;&gt;15 -->\r\n",
       "<g id=\"edge15\" class=\"edge\"><title>14&#45;&gt;15</title>\r\n",
       "<path fill=\"none\" stroke=\"black\" d=\"M729,-296.884C729,-288.778 729,-279.982 729,-271.472\"/>\r\n",
       "<polygon fill=\"black\" stroke=\"black\" points=\"732.5,-271.299 729,-261.299 725.5,-271.299 732.5,-271.299\"/>\r\n",
       "</g>\r\n",
       "<!-- 20 -->\r\n",
       "<g id=\"node21\" class=\"node\"><title>20</title>\r\n",
       "<polygon fill=\"none\" stroke=\"black\" points=\"1125.5,-261 1014.5,-261 1014.5,-193 1125.5,-193 1125.5,-261\"/>\r\n",
       "<text text-anchor=\"middle\" x=\"1070\" y=\"-245.8\" font-family=\"Times New Roman,serif\" font-size=\"14.00\">Fare &lt;= 26.269</text>\r\n",
       "<text text-anchor=\"middle\" x=\"1070\" y=\"-230.8\" font-family=\"Times New Roman,serif\" font-size=\"14.00\">entropy = 0.63</text>\r\n",
       "<text text-anchor=\"middle\" x=\"1070\" y=\"-215.8\" font-family=\"Times New Roman,serif\" font-size=\"14.00\">samples = 398</text>\r\n",
       "<text text-anchor=\"middle\" x=\"1070\" y=\"-200.8\" font-family=\"Times New Roman,serif\" font-size=\"14.00\">value = [335, 63]</text>\r\n",
       "</g>\r\n",
       "<!-- 14&#45;&gt;20 -->\r\n",
       "<g id=\"edge20\" class=\"edge\"><title>14&#45;&gt;20</title>\r\n",
       "<path fill=\"none\" stroke=\"black\" d=\"M784.546,-313.385C844.737,-295.381 940.706,-266.675 1004.52,-247.586\"/>\r\n",
       "<polygon fill=\"black\" stroke=\"black\" points=\"1005.9,-250.827 1014.48,-244.608 1003.89,-244.121 1005.9,-250.827\"/>\r\n",
       "</g>\r\n",
       "<!-- 16 -->\r\n",
       "<g id=\"node17\" class=\"node\"><title>16</title>\r\n",
       "<polygon fill=\"none\" stroke=\"black\" points=\"777,-149.5 679,-149.5 679,-96.5 777,-96.5 777,-149.5\"/>\r\n",
       "<text text-anchor=\"middle\" x=\"728\" y=\"-134.3\" font-family=\"Times New Roman,serif\" font-size=\"14.00\">entropy = 0.0</text>\r\n",
       "<text text-anchor=\"middle\" x=\"728\" y=\"-119.3\" font-family=\"Times New Roman,serif\" font-size=\"14.00\">samples = 13</text>\r\n",
       "<text text-anchor=\"middle\" x=\"728\" y=\"-104.3\" font-family=\"Times New Roman,serif\" font-size=\"14.00\">value = [0, 13]</text>\r\n",
       "</g>\r\n",
       "<!-- 15&#45;&gt;16 -->\r\n",
       "<g id=\"edge16\" class=\"edge\"><title>15&#45;&gt;16</title>\r\n",
       "<path fill=\"none\" stroke=\"black\" d=\"M728.675,-192.884C728.572,-182.326 728.457,-170.597 728.352,-159.854\"/>\r\n",
       "<polygon fill=\"black\" stroke=\"black\" points=\"731.848,-159.485 728.25,-149.52 724.848,-159.554 731.848,-159.485\"/>\r\n",
       "</g>\r\n",
       "<!-- 17 -->\r\n",
       "<g id=\"node18\" class=\"node\"><title>17</title>\r\n",
       "<polygon fill=\"none\" stroke=\"black\" points=\"901,-157 795,-157 795,-89 901,-89 901,-157\"/>\r\n",
       "<text text-anchor=\"middle\" x=\"848\" y=\"-141.8\" font-family=\"Times New Roman,serif\" font-size=\"14.00\">Age &lt;= 3.5</text>\r\n",
       "<text text-anchor=\"middle\" x=\"848\" y=\"-126.8\" font-family=\"Times New Roman,serif\" font-size=\"14.00\">entropy = 0.391</text>\r\n",
       "<text text-anchor=\"middle\" x=\"848\" y=\"-111.8\" font-family=\"Times New Roman,serif\" font-size=\"14.00\">samples = 13</text>\r\n",
       "<text text-anchor=\"middle\" x=\"848\" y=\"-96.8\" font-family=\"Times New Roman,serif\" font-size=\"14.00\">value = [12, 1]</text>\r\n",
       "</g>\r\n",
       "<!-- 15&#45;&gt;17 -->\r\n",
       "<g id=\"edge17\" class=\"edge\"><title>15&#45;&gt;17</title>\r\n",
       "<path fill=\"none\" stroke=\"black\" d=\"M767.636,-192.884C778.444,-183.62 790.303,-173.455 801.514,-163.845\"/>\r\n",
       "<polygon fill=\"black\" stroke=\"black\" points=\"803.836,-166.465 809.151,-157.299 799.28,-161.15 803.836,-166.465\"/>\r\n",
       "</g>\r\n",
       "<!-- 18 -->\r\n",
       "<g id=\"node19\" class=\"node\"><title>18</title>\r\n",
       "<polygon fill=\"none\" stroke=\"black\" points=\"828,-53 722,-53 722,-0 828,-0 828,-53\"/>\r\n",
       "<text text-anchor=\"middle\" x=\"775\" y=\"-37.8\" font-family=\"Times New Roman,serif\" font-size=\"14.00\">entropy = 0.722</text>\r\n",
       "<text text-anchor=\"middle\" x=\"775\" y=\"-22.8\" font-family=\"Times New Roman,serif\" font-size=\"14.00\">samples = 5</text>\r\n",
       "<text text-anchor=\"middle\" x=\"775\" y=\"-7.8\" font-family=\"Times New Roman,serif\" font-size=\"14.00\">value = [4, 1]</text>\r\n",
       "</g>\r\n",
       "<!-- 17&#45;&gt;18 -->\r\n",
       "<g id=\"edge18\" class=\"edge\"><title>17&#45;&gt;18</title>\r\n",
       "<path fill=\"none\" stroke=\"black\" d=\"M822.468,-88.9485C815.543,-79.9834 808.037,-70.2666 801.081,-61.2629\"/>\r\n",
       "<polygon fill=\"black\" stroke=\"black\" points=\"803.764,-59.0108 794.881,-53.2367 798.225,-63.2902 803.764,-59.0108\"/>\r\n",
       "</g>\r\n",
       "<!-- 19 -->\r\n",
       "<g id=\"node20\" class=\"node\"><title>19</title>\r\n",
       "<polygon fill=\"none\" stroke=\"black\" points=\"938,-53 846,-53 846,-0 938,-0 938,-53\"/>\r\n",
       "<text text-anchor=\"middle\" x=\"892\" y=\"-37.8\" font-family=\"Times New Roman,serif\" font-size=\"14.00\">entropy = 0.0</text>\r\n",
       "<text text-anchor=\"middle\" x=\"892\" y=\"-22.8\" font-family=\"Times New Roman,serif\" font-size=\"14.00\">samples = 8</text>\r\n",
       "<text text-anchor=\"middle\" x=\"892\" y=\"-7.8\" font-family=\"Times New Roman,serif\" font-size=\"14.00\">value = [8, 0]</text>\r\n",
       "</g>\r\n",
       "<!-- 17&#45;&gt;19 -->\r\n",
       "<g id=\"edge19\" class=\"edge\"><title>17&#45;&gt;19</title>\r\n",
       "<path fill=\"none\" stroke=\"black\" d=\"M863.389,-88.9485C867.393,-80.3494 871.719,-71.0586 875.765,-62.3689\"/>\r\n",
       "<polygon fill=\"black\" stroke=\"black\" points=\"878.969,-63.7796 880.017,-53.2367 872.623,-60.8249 878.969,-63.7796\"/>\r\n",
       "</g>\r\n",
       "<!-- 21 -->\r\n",
       "<g id=\"node22\" class=\"node\"><title>21</title>\r\n",
       "<polygon fill=\"none\" stroke=\"black\" points=\"1125.5,-157 1014.5,-157 1014.5,-89 1125.5,-89 1125.5,-157\"/>\r\n",
       "<text text-anchor=\"middle\" x=\"1070\" y=\"-141.8\" font-family=\"Times New Roman,serif\" font-size=\"14.00\">Age &lt;= 32.5</text>\r\n",
       "<text text-anchor=\"middle\" x=\"1070\" y=\"-126.8\" font-family=\"Times New Roman,serif\" font-size=\"14.00\">entropy = 0.479</text>\r\n",
       "<text text-anchor=\"middle\" x=\"1070\" y=\"-111.8\" font-family=\"Times New Roman,serif\" font-size=\"14.00\">samples = 291</text>\r\n",
       "<text text-anchor=\"middle\" x=\"1070\" y=\"-96.8\" font-family=\"Times New Roman,serif\" font-size=\"14.00\">value = [261, 30]</text>\r\n",
       "</g>\r\n",
       "<!-- 20&#45;&gt;21 -->\r\n",
       "<g id=\"edge21\" class=\"edge\"><title>20&#45;&gt;21</title>\r\n",
       "<path fill=\"none\" stroke=\"black\" d=\"M1070,-192.884C1070,-184.778 1070,-175.982 1070,-167.472\"/>\r\n",
       "<polygon fill=\"black\" stroke=\"black\" points=\"1073.5,-167.299 1070,-157.299 1066.5,-167.299 1073.5,-167.299\"/>\r\n",
       "</g>\r\n",
       "<!-- 24 -->\r\n",
       "<g id=\"node25\" class=\"node\"><title>24</title>\r\n",
       "<polygon fill=\"none\" stroke=\"black\" points=\"1309,-157 1203,-157 1203,-89 1309,-89 1309,-157\"/>\r\n",
       "<text text-anchor=\"middle\" x=\"1256\" y=\"-141.8\" font-family=\"Times New Roman,serif\" font-size=\"14.00\">Fare &lt;= 26.469</text>\r\n",
       "<text text-anchor=\"middle\" x=\"1256\" y=\"-126.8\" font-family=\"Times New Roman,serif\" font-size=\"14.00\">entropy = 0.891</text>\r\n",
       "<text text-anchor=\"middle\" x=\"1256\" y=\"-111.8\" font-family=\"Times New Roman,serif\" font-size=\"14.00\">samples = 107</text>\r\n",
       "<text text-anchor=\"middle\" x=\"1256\" y=\"-96.8\" font-family=\"Times New Roman,serif\" font-size=\"14.00\">value = [74, 33]</text>\r\n",
       "</g>\r\n",
       "<!-- 20&#45;&gt;24 -->\r\n",
       "<g id=\"edge24\" class=\"edge\"><title>20&#45;&gt;24</title>\r\n",
       "<path fill=\"none\" stroke=\"black\" d=\"M1125.55,-195.535C1147.1,-183.72 1171.86,-170.139 1193.99,-158.007\"/>\r\n",
       "<polygon fill=\"black\" stroke=\"black\" points=\"1195.88,-160.961 1202.96,-153.084 1192.51,-154.823 1195.88,-160.961\"/>\r\n",
       "</g>\r\n",
       "<!-- 22 -->\r\n",
       "<g id=\"node23\" class=\"node\"><title>22</title>\r\n",
       "<polygon fill=\"none\" stroke=\"black\" points=\"1067.5,-53 956.5,-53 956.5,-0 1067.5,-0 1067.5,-53\"/>\r\n",
       "<text text-anchor=\"middle\" x=\"1012\" y=\"-37.8\" font-family=\"Times New Roman,serif\" font-size=\"14.00\">entropy = 0.552</text>\r\n",
       "<text text-anchor=\"middle\" x=\"1012\" y=\"-22.8\" font-family=\"Times New Roman,serif\" font-size=\"14.00\">samples = 195</text>\r\n",
       "<text text-anchor=\"middle\" x=\"1012\" y=\"-7.8\" font-family=\"Times New Roman,serif\" font-size=\"14.00\">value = [170, 25]</text>\r\n",
       "</g>\r\n",
       "<!-- 21&#45;&gt;22 -->\r\n",
       "<g id=\"edge22\" class=\"edge\"><title>21&#45;&gt;22</title>\r\n",
       "<path fill=\"none\" stroke=\"black\" d=\"M1049.71,-88.9485C1044.32,-80.1664 1038.49,-70.6629 1033.06,-61.815\"/>\r\n",
       "<polygon fill=\"black\" stroke=\"black\" points=\"1036.01,-59.9287 1027.8,-53.2367 1030.04,-63.5903 1036.01,-59.9287\"/>\r\n",
       "</g>\r\n",
       "<!-- 23 -->\r\n",
       "<g id=\"node24\" class=\"node\"><title>23</title>\r\n",
       "<polygon fill=\"none\" stroke=\"black\" points=\"1192,-53 1086,-53 1086,-0 1192,-0 1192,-53\"/>\r\n",
       "<text text-anchor=\"middle\" x=\"1139\" y=\"-37.8\" font-family=\"Times New Roman,serif\" font-size=\"14.00\">entropy = 0.295</text>\r\n",
       "<text text-anchor=\"middle\" x=\"1139\" y=\"-22.8\" font-family=\"Times New Roman,serif\" font-size=\"14.00\">samples = 96</text>\r\n",
       "<text text-anchor=\"middle\" x=\"1139\" y=\"-7.8\" font-family=\"Times New Roman,serif\" font-size=\"14.00\">value = [91, 5]</text>\r\n",
       "</g>\r\n",
       "<!-- 21&#45;&gt;23 -->\r\n",
       "<g id=\"edge23\" class=\"edge\"><title>21&#45;&gt;23</title>\r\n",
       "<path fill=\"none\" stroke=\"black\" d=\"M1094.13,-88.9485C1100.61,-80.0749 1107.63,-70.4648 1114.15,-61.5388\"/>\r\n",
       "<polygon fill=\"black\" stroke=\"black\" points=\"1117.14,-63.3769 1120.21,-53.2367 1111.48,-59.249 1117.14,-63.3769\"/>\r\n",
       "</g>\r\n",
       "<!-- 25 -->\r\n",
       "<g id=\"node26\" class=\"node\"><title>25</title>\r\n",
       "<polygon fill=\"none\" stroke=\"black\" points=\"1302,-53 1210,-53 1210,-0 1302,-0 1302,-53\"/>\r\n",
       "<text text-anchor=\"middle\" x=\"1256\" y=\"-37.8\" font-family=\"Times New Roman,serif\" font-size=\"14.00\">entropy = 0.0</text>\r\n",
       "<text text-anchor=\"middle\" x=\"1256\" y=\"-22.8\" font-family=\"Times New Roman,serif\" font-size=\"14.00\">samples = 3</text>\r\n",
       "<text text-anchor=\"middle\" x=\"1256\" y=\"-7.8\" font-family=\"Times New Roman,serif\" font-size=\"14.00\">value = [0, 3]</text>\r\n",
       "</g>\r\n",
       "<!-- 24&#45;&gt;25 -->\r\n",
       "<g id=\"edge25\" class=\"edge\"><title>24&#45;&gt;25</title>\r\n",
       "<path fill=\"none\" stroke=\"black\" d=\"M1256,-88.9485C1256,-80.7153 1256,-71.848 1256,-63.4814\"/>\r\n",
       "<polygon fill=\"black\" stroke=\"black\" points=\"1259.5,-63.2367 1256,-53.2367 1252.5,-63.2367 1259.5,-63.2367\"/>\r\n",
       "</g>\r\n",
       "<!-- 26 -->\r\n",
       "<g id=\"node27\" class=\"node\"><title>26</title>\r\n",
       "<polygon fill=\"none\" stroke=\"black\" points=\"1426,-53 1320,-53 1320,-0 1426,-0 1426,-53\"/>\r\n",
       "<text text-anchor=\"middle\" x=\"1373\" y=\"-37.8\" font-family=\"Times New Roman,serif\" font-size=\"14.00\">entropy = 0.867</text>\r\n",
       "<text text-anchor=\"middle\" x=\"1373\" y=\"-22.8\" font-family=\"Times New Roman,serif\" font-size=\"14.00\">samples = 104</text>\r\n",
       "<text text-anchor=\"middle\" x=\"1373\" y=\"-7.8\" font-family=\"Times New Roman,serif\" font-size=\"14.00\">value = [74, 30]</text>\r\n",
       "</g>\r\n",
       "<!-- 24&#45;&gt;26 -->\r\n",
       "<g id=\"edge26\" class=\"edge\"><title>24&#45;&gt;26</title>\r\n",
       "<path fill=\"none\" stroke=\"black\" d=\"M1296.92,-88.9485C1308.7,-79.4346 1321.53,-69.074 1333.24,-59.6175\"/>\r\n",
       "<polygon fill=\"black\" stroke=\"black\" points=\"1335.56,-62.2429 1341.14,-53.2367 1331.16,-56.7973 1335.56,-62.2429\"/>\r\n",
       "</g>\r\n",
       "</g>\r\n",
       "</svg>\r\n"
      ],
      "text/plain": [
       "<graphviz.files.Source at 0x1f13c766988>"
      ]
     },
     "execution_count": 200,
     "metadata": {},
     "output_type": "execute_result"
    }
   ],
   "source": [
    "Source(texto)"
   ]
  },
  {
   "cell_type": "markdown",
   "metadata": {},
   "source": [
    "## Valdiacion Cruzada para la poda\n"
   ]
  },
  {
   "cell_type": "code",
   "execution_count": 201,
   "metadata": {},
   "outputs": [],
   "source": [
    "a=dt[predictores]\n",
    "b=dt[objetivo]"
   ]
  },
  {
   "cell_type": "code",
   "execution_count": 202,
   "metadata": {},
   "outputs": [
    {
     "data": {
      "text/plain": [
       "DecisionTreeClassifier(ccp_alpha=0.0, class_weight=None, criterion='entropy',\n",
       "                       max_depth=5, max_features=None, max_leaf_nodes=None,\n",
       "                       min_impurity_decrease=0.0, min_impurity_split=None,\n",
       "                       min_samples_leaf=1, min_samples_split=20,\n",
       "                       min_weight_fraction_leaf=0.0, presort='deprecated',\n",
       "                       random_state=99, splitter='best')"
      ]
     },
     "execution_count": 202,
     "metadata": {},
     "output_type": "execute_result"
    }
   ],
   "source": [
    "arbol=DecisionTreeClassifier(criterion=\"entropy\", max_depth=5,min_samples_split=20,random_state=99)\n",
    "arbol.fit(a,b)"
   ]
  },
  {
   "cell_type": "code",
   "execution_count": 203,
   "metadata": {},
   "outputs": [],
   "source": [
    "from sklearn.model_selection import KFold"
   ]
  },
  {
   "cell_type": "code",
   "execution_count": 204,
   "metadata": {},
   "outputs": [],
   "source": [
    "vc=KFold(n_splits=10, shuffle=True, random_state=1)"
   ]
  },
  {
   "cell_type": "code",
   "execution_count": 205,
   "metadata": {},
   "outputs": [],
   "source": [
    "from sklearn.model_selection import cross_val_score"
   ]
  },
  {
   "cell_type": "code",
   "execution_count": 206,
   "metadata": {},
   "outputs": [
    {
     "data": {
      "text/plain": [
       "array([0.86516854, 0.83146067, 0.76404494, 0.83146067, 0.76404494,\n",
       "       0.84269663, 0.92134831, 0.72727273, 0.90909091, 0.89772727])"
      ]
     },
     "execution_count": 206,
     "metadata": {},
     "output_type": "execute_result"
    }
   ],
   "source": [
    "scores = cross_val_score(arbol, a, b, scoring=\"accuracy\", cv = vc, n_jobs=1)\n",
    "scores"
   ]
  },
  {
   "cell_type": "code",
   "execution_count": 208,
   "metadata": {},
   "outputs": [
    {
     "data": {
      "text/plain": [
       "0.8354315628192033"
      ]
     },
     "execution_count": 208,
     "metadata": {},
     "output_type": "execute_result"
    }
   ],
   "source": [
    "scores=np.mean(scores)\n",
    "scores"
   ]
  },
  {
   "cell_type": "code",
   "execution_count": 211,
   "metadata": {},
   "outputs": [
    {
     "name": "stdout",
     "output_type": "stream",
     "text": [
      "Score para i =  1  es de  0.7858273748723187\n",
      "    [0. 1. 0. 0. 0. 0.]\n",
      "Score para i =  2  es de  0.75755873340143\n",
      "    [0.22939488 0.69117067 0.07943445 0.         0.         0.        ]\n",
      "Score para i =  3  es de  0.8162921348314607\n",
      "    [0.17972861 0.54152537 0.0622361  0.08179475 0.         0.13471517]\n",
      "Score para i =  4  es de  0.8365551583248212\n",
      "    [0.16315564 0.49159071 0.10475834 0.07425237 0.01878509 0.14745787]\n",
      "Score para i =  5  es de  0.8354315628192033\n",
      "    [0.15288591 0.46064786 0.13843393 0.0695786  0.02422301 0.15423069]\n",
      "Score para i =  6  es de  0.8332226762002044\n",
      "    [0.14698225 0.44286003 0.15737128 0.06689184 0.02328764 0.16260695]\n",
      "Score para i =  7  es de  0.8240934627170582\n",
      "    [0.14020649 0.42244455 0.16478798 0.06380818 0.03200866 0.17674414]\n",
      "Score para i =  8  es de  0.8263789581205311\n",
      "    [0.13718575 0.40702796 0.16796465 0.06147958 0.03084054 0.19550152]\n",
      "Score para i =  9  es de  0.8185010214504598\n",
      "    [0.13177172 0.3909646  0.19502233 0.05905329 0.02962342 0.19356464]\n",
      "Score para i =  10  es de  0.8263917262512768\n",
      "    [0.12821187 0.38040258 0.20049974 0.05745794 0.02882314 0.20460473]\n"
     ]
    }
   ],
   "source": [
    "for i in range(1,11):\n",
    "    arbol = DecisionTreeClassifier(criterion=\"entropy\", max_depth=i, min_samples_split=20, random_state=99)\n",
    "    arbol.fit(a,b)\n",
    "    cv = KFold(n_splits=10, shuffle=True, random_state=1)\n",
    "    scores = cross_val_score(arbol, a, b, scoring=\"accuracy\", cv = vc, n_jobs=1)\n",
    "    score = np.mean(scores)\n",
    "    print(\"Score para i = \",i,\" es de \", score)\n",
    "    \n",
    "    #GAnancia de informacion, importancia del rasgo\n",
    "    print(\"   \",arbol.feature_importances_)"
   ]
  },
  {
   "cell_type": "code",
   "execution_count": 212,
   "metadata": {},
   "outputs": [
    {
     "data": {
      "text/plain": [
       "['Pclass',\n",
       " 'Sex',\n",
       " 'Age',\n",
       " 'Siblings/Spouses Aboard',\n",
       " 'Parents/Children Aboard',\n",
       " 'Fare']"
      ]
     },
     "execution_count": 212,
     "metadata": {},
     "output_type": "execute_result"
    }
   ],
   "source": [
    "predictores"
   ]
  },
  {
   "cell_type": "code",
   "execution_count": null,
   "metadata": {},
   "outputs": [],
   "source": []
  }
 ],
 "metadata": {
  "kernelspec": {
   "display_name": "Python 3",
   "language": "python",
   "name": "python3"
  },
  "language_info": {
   "codemirror_mode": {
    "name": "ipython",
    "version": 3
   },
   "file_extension": ".py",
   "mimetype": "text/x-python",
   "name": "python",
   "nbconvert_exporter": "python",
   "pygments_lexer": "ipython3",
   "version": "3.7.6"
  }
 },
 "nbformat": 4,
 "nbformat_minor": 4
}
