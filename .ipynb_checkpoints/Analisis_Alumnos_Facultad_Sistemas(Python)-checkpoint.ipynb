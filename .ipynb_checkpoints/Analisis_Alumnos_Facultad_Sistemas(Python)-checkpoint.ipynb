{
 "cells": [
  {
   "cell_type": "markdown",
   "metadata": {
    "colab_type": "text",
    "id": "view-in-github"
   },
   "source": [
    "<a href=\"https://colab.research.google.com/github/ochese/Testpy/blob/RamaJose/Untitled.ipynb\" target=\"_parent\"><img src=\"https://colab.research.google.com/assets/colab-badge.svg\" alt=\"Open In Colab\"/></a>"
   ]
  },
  {
   "cell_type": "markdown",
   "metadata": {},
   "source": [
    "# Analisis \n",
    "### Se realizo un encuesta a los alumnos de la Facultad de Sistemas de la UNMSM con el fin de recopilar informacion socio economica  de los alumnos. \n",
    "### La encuesta se realizo a traves de google forms y se exporto los resultados en un archivo excel\n",
    "\n",
    "\n",
    "#### Juan Jose Cusicuna Luna "
   ]
  },
  {
   "cell_type": "code",
   "execution_count": 3,
   "metadata": {
    "colab": {},
    "colab_type": "code",
    "id": "mIJ3WdH0jq6I"
   },
   "outputs": [],
   "source": [
    "import pandas as pd\n",
    "import numpy as np\n",
    "import matplotlib.pyplot as plt\n",
    "#from  matplotlib import pyplot as plt"
   ]
  },
  {
   "cell_type": "code",
   "execution_count": 4,
   "metadata": {
    "colab": {},
    "colab_type": "code",
    "id": "JcLil_1bjq6S"
   },
   "outputs": [],
   "source": [
    "df = pd.read_excel('form_python.xlsx')"
   ]
  },
  {
   "cell_type": "code",
   "execution_count": 5,
   "metadata": {
    "colab": {
     "base_uri": "https://localhost:8080/",
     "height": 34
    },
    "colab_type": "code",
    "id": "74htFQO_jq6c",
    "outputId": "a30b568e-398d-45e0-f8bc-8bbbc47ed27f"
   },
   "outputs": [
    {
     "data": {
      "text/plain": [
       "(125, 34)"
      ]
     },
     "execution_count": 5,
     "metadata": {},
     "output_type": "execute_result"
    }
   ],
   "source": [
    "#Estructura\n",
    "df.shape"
   ]
  },
  {
   "cell_type": "code",
   "execution_count": 6,
   "metadata": {
    "colab": {
     "base_uri": "https://localhost:8080/",
     "height": 425
    },
    "colab_type": "code",
    "id": "onNBpWTcjq6f",
    "outputId": "28ba58c8-3828-4ac0-e2d8-f992b3dca227"
   },
   "outputs": [
    {
     "data": {
      "text/plain": [
       "Index(['Marca temporal', 'Codigo', 'Año de Nacimiento', 'SEXO',\n",
       "       'Lugar de Residencia Actual', 'TIPO DE COLEGIO EN EL QUE ESTUDIO',\n",
       "       'En que periodo ingreso ?', 'TIPO DE INGRESO',\n",
       "       'PUNTAJE DE INGRESO (LO MAS CERCANO A SU PUNTAJE REAL)',\n",
       "       'CUANTOS CURSOS DESAPROBO EL PRIMER AÑO DE ESTUDIO? O EN LO QUE  DEL AÑO',\n",
       "       'EN CUANTOS CURSOS ESTUVO EN PRIMERA REPITENCIA',\n",
       "       'EN CUANTOS CURSOS ESTUVO EN SEGUNDA REPITENCIA',\n",
       "       'EN CUANTOS CURSOS ESTUVO EN TERCERA REPITENCIA',\n",
       "       'TUVO MAS DE 3 REPITENCIAS EN UN CURSO ',\n",
       "       'GRADO DE EDUCACION DE LA MADRE', 'GRADO DE EDUCACION DEL PADRE',\n",
       "       'OCUPACION DEL PADRE', 'OCUPACION DE LA MADRE', 'CLASE SOCIAL',\n",
       "       'TIEMPO QUE DEMORA EN LLEGAR A LA UNIVERSIDAD', 'NUMERO DE HERMANOS',\n",
       "       'TIENE HERMANOS CON ESTUDIOS SUPERIORES? (TECNICO O UNIVERSITARIO)',\n",
       "       'ESTADO CIVIL CUANDO EMPEZO LA UNIVERSIDAD', 'SE PREPARO EN ACADEMIA?',\n",
       "       'CUANTO TIEMPO SE PREPARO EN ACADEMIA',\n",
       "       'CUANTOS AÑOS TENIA CUANDO INGRESO A LA UNIVERSIDAD?',\n",
       "       'APORTABA ECONOMICAMENTE EN SU CASA EL AÑO QUE INGRESO?',\n",
       "       'TRABAJABA DURANTE EL PRIMER AÑO DE UNIVERSIDAD?',\n",
       "       'SE SIENTE SATISFECHO CON LA CALIDAD DE ENSEÑANZA EN LA UNIVERSIDAD?',\n",
       "       'SI NO HUBIERA TENIDO ALGUN  TIPO DE PRESION FAMILIAR  O ECONOMICA, CREE QUE HUBIERA ELEGIDO LA CARRERA QUE ESTUDIA ACTUALMENTE?',\n",
       "       'Ciudad donde nacio', 'Padres Separados?',\n",
       "       'Considera que en su hogar surgen conflictos  familiares recurrentes?',\n",
       "       'Unnamed: 33'],\n",
       "      dtype='object')"
      ]
     },
     "execution_count": 6,
     "metadata": {},
     "output_type": "execute_result"
    }
   ],
   "source": [
    "df.columns"
   ]
  },
  {
   "cell_type": "code",
   "execution_count": 7,
   "metadata": {
    "colab": {},
    "colab_type": "code",
    "id": "KR10GRvBjq6i"
   },
   "outputs": [],
   "source": [
    "dt=df.drop(['Marca temporal','Unnamed: 33'], axis=1)"
   ]
  },
  {
   "cell_type": "code",
   "execution_count": 8,
   "metadata": {
    "colab": {
     "base_uri": "https://localhost:8080/",
     "height": 408
    },
    "colab_type": "code",
    "id": "m11DBcmjjq6l",
    "outputId": "4e485baf-053e-429d-fa3d-c2d049c37ba9"
   },
   "outputs": [
    {
     "data": {
      "text/plain": [
       "Index(['Codigo', 'Año de Nacimiento', 'SEXO', 'Lugar de Residencia Actual',\n",
       "       'TIPO DE COLEGIO EN EL QUE ESTUDIO', 'En que periodo ingreso ?',\n",
       "       'TIPO DE INGRESO',\n",
       "       'PUNTAJE DE INGRESO (LO MAS CERCANO A SU PUNTAJE REAL)',\n",
       "       'CUANTOS CURSOS DESAPROBO EL PRIMER AÑO DE ESTUDIO? O EN LO QUE  DEL AÑO',\n",
       "       'EN CUANTOS CURSOS ESTUVO EN PRIMERA REPITENCIA',\n",
       "       'EN CUANTOS CURSOS ESTUVO EN SEGUNDA REPITENCIA',\n",
       "       'EN CUANTOS CURSOS ESTUVO EN TERCERA REPITENCIA',\n",
       "       'TUVO MAS DE 3 REPITENCIAS EN UN CURSO ',\n",
       "       'GRADO DE EDUCACION DE LA MADRE', 'GRADO DE EDUCACION DEL PADRE',\n",
       "       'OCUPACION DEL PADRE', 'OCUPACION DE LA MADRE', 'CLASE SOCIAL',\n",
       "       'TIEMPO QUE DEMORA EN LLEGAR A LA UNIVERSIDAD', 'NUMERO DE HERMANOS',\n",
       "       'TIENE HERMANOS CON ESTUDIOS SUPERIORES? (TECNICO O UNIVERSITARIO)',\n",
       "       'ESTADO CIVIL CUANDO EMPEZO LA UNIVERSIDAD', 'SE PREPARO EN ACADEMIA?',\n",
       "       'CUANTO TIEMPO SE PREPARO EN ACADEMIA',\n",
       "       'CUANTOS AÑOS TENIA CUANDO INGRESO A LA UNIVERSIDAD?',\n",
       "       'APORTABA ECONOMICAMENTE EN SU CASA EL AÑO QUE INGRESO?',\n",
       "       'TRABAJABA DURANTE EL PRIMER AÑO DE UNIVERSIDAD?',\n",
       "       'SE SIENTE SATISFECHO CON LA CALIDAD DE ENSEÑANZA EN LA UNIVERSIDAD?',\n",
       "       'SI NO HUBIERA TENIDO ALGUN  TIPO DE PRESION FAMILIAR  O ECONOMICA, CREE QUE HUBIERA ELEGIDO LA CARRERA QUE ESTUDIA ACTUALMENTE?',\n",
       "       'Ciudad donde nacio', 'Padres Separados?',\n",
       "       'Considera que en su hogar surgen conflictos  familiares recurrentes?'],\n",
       "      dtype='object')"
      ]
     },
     "execution_count": 8,
     "metadata": {},
     "output_type": "execute_result"
    }
   ],
   "source": [
    "dt.columns"
   ]
  },
  {
   "cell_type": "code",
   "execution_count": 9,
   "metadata": {
    "colab": {},
    "colab_type": "code",
    "id": "U1NVFI-6jq6p"
   },
   "outputs": [],
   "source": [
    "#Cambiar nombres de las columnas\n",
    "dt.columns=['Codigo', 'AnioNac', 'Sexo', 'Resid',\n",
    "       'TipoCole', 'MesIngres',\n",
    "       'TipoIngres',\n",
    "       'PuntajeIngre',\n",
    "       'CurDes1Ano',\n",
    "       'PrimRep',\n",
    "       'SegRep',\n",
    "       'TercRep',\n",
    "       'Mas3Rep',\n",
    "       'EduMadre', 'EduPadre',\n",
    "       'OcuPadre', 'OcuMadre', 'ClaseSoc',\n",
    "       'TempViajeUni', 'NumHermano',\n",
    "       'HermanoEstSup',\n",
    "       'EstadCivilInicio', 'PrepaAcademia',\n",
    "       'TempPrepAcadem',\n",
    "       'EdadIngreso',\n",
    "       'AporteEcono',\n",
    "       'TrabajoUniversi1Anio',\n",
    "       'SatisfCalidad',\n",
    "       'VocacionXpresion',\n",
    "       'CiudNac', 'PadreSep',\n",
    "       'ProbFamiliFreq']"
   ]
  },
  {
   "cell_type": "code",
   "execution_count": 10,
   "metadata": {
    "colab": {
     "base_uri": "https://localhost:8080/",
     "height": 153
    },
    "colab_type": "code",
    "id": "2FYr_2kQjq6s",
    "outputId": "5dcff2d8-3859-476a-b872-12e42b29eab1"
   },
   "outputs": [
    {
     "data": {
      "text/plain": [
       "Index(['Codigo', 'AnioNac', 'Sexo', 'Resid', 'TipoCole', 'MesIngres',\n",
       "       'TipoIngres', 'PuntajeIngre', 'CurDes1Ano', 'PrimRep', 'SegRep',\n",
       "       'TercRep', 'Mas3Rep', 'EduMadre', 'EduPadre', 'OcuPadre', 'OcuMadre',\n",
       "       'ClaseSoc', 'TempViajeUni', 'NumHermano', 'HermanoEstSup',\n",
       "       'EstadCivilInicio', 'PrepaAcademia', 'TempPrepAcadem', 'EdadIngreso',\n",
       "       'AporteEcono', 'TrabajoUniversi1Anio', 'SatisfCalidad',\n",
       "       'VocacionXpresion', 'CiudNac', 'PadreSep', 'ProbFamiliFreq'],\n",
       "      dtype='object')"
      ]
     },
     "execution_count": 10,
     "metadata": {},
     "output_type": "execute_result"
    }
   ],
   "source": [
    "#Verificar cambio de nombre de columnas\n",
    "dt.columns"
   ]
  },
  {
   "cell_type": "markdown",
   "metadata": {
    "colab_type": "text",
    "id": "R2dmgxAojq6y"
   },
   "source": [
    "## Tabla de contignecia de una variable"
   ]
  },
  {
   "cell_type": "code",
   "execution_count": 11,
   "metadata": {
    "colab": {
     "base_uri": "https://localhost:8080/",
     "height": 173
    },
    "colab_type": "code",
    "id": "ADDiJQ58jq6z",
    "outputId": "bda7d1c3-e5d9-409e-fa3c-325dfc54631b"
   },
   "outputs": [
    {
     "data": {
      "text/html": [
       "<div>\n",
       "<style scoped>\n",
       "    .dataframe tbody tr th:only-of-type {\n",
       "        vertical-align: middle;\n",
       "    }\n",
       "\n",
       "    .dataframe tbody tr th {\n",
       "        vertical-align: top;\n",
       "    }\n",
       "\n",
       "    .dataframe thead th {\n",
       "        text-align: right;\n",
       "    }\n",
       "</style>\n",
       "<table border=\"1\" class=\"dataframe\">\n",
       "  <thead>\n",
       "    <tr style=\"text-align: right;\">\n",
       "      <th>col_0</th>\n",
       "      <th>Alumnos</th>\n",
       "    </tr>\n",
       "    <tr>\n",
       "      <th>Sexo</th>\n",
       "      <th></th>\n",
       "    </tr>\n",
       "  </thead>\n",
       "  <tbody>\n",
       "    <tr>\n",
       "      <th>Hombre</th>\n",
       "      <td>101</td>\n",
       "    </tr>\n",
       "    <tr>\n",
       "      <th>Mujer</th>\n",
       "      <td>22</td>\n",
       "    </tr>\n",
       "    <tr>\n",
       "      <th>OTRO</th>\n",
       "      <td>2</td>\n",
       "    </tr>\n",
       "  </tbody>\n",
       "</table>\n",
       "</div>"
      ],
      "text/plain": [
       "col_0   Alumnos\n",
       "Sexo           \n",
       "Hombre      101\n",
       "Mujer        22\n",
       "OTRO          2"
      ]
     },
     "execution_count": 11,
     "metadata": {},
     "output_type": "execute_result"
    }
   ],
   "source": [
    "tab=pd.crosstab(index=dt['Sexo'],columns='Alumnos')\n",
    "tab"
   ]
  },
  {
   "cell_type": "code",
   "execution_count": 12,
   "metadata": {
    "colab": {
     "base_uri": "https://localhost:8080/",
     "height": 204
    },
    "colab_type": "code",
    "id": "3a35zY2Wjq63",
    "outputId": "c4b463f3-9222-4e2c-e27a-00537afd560f"
   },
   "outputs": [
    {
     "data": {
      "text/html": [
       "<div>\n",
       "<style scoped>\n",
       "    .dataframe tbody tr th:only-of-type {\n",
       "        vertical-align: middle;\n",
       "    }\n",
       "\n",
       "    .dataframe tbody tr th {\n",
       "        vertical-align: top;\n",
       "    }\n",
       "\n",
       "    .dataframe thead th {\n",
       "        text-align: right;\n",
       "    }\n",
       "</style>\n",
       "<table border=\"1\" class=\"dataframe\">\n",
       "  <thead>\n",
       "    <tr style=\"text-align: right;\">\n",
       "      <th>col_0</th>\n",
       "      <th>Alumnos</th>\n",
       "      <th>All</th>\n",
       "    </tr>\n",
       "    <tr>\n",
       "      <th>Sexo</th>\n",
       "      <th></th>\n",
       "      <th></th>\n",
       "    </tr>\n",
       "  </thead>\n",
       "  <tbody>\n",
       "    <tr>\n",
       "      <th>Hombre</th>\n",
       "      <td>101</td>\n",
       "      <td>101</td>\n",
       "    </tr>\n",
       "    <tr>\n",
       "      <th>Mujer</th>\n",
       "      <td>22</td>\n",
       "      <td>22</td>\n",
       "    </tr>\n",
       "    <tr>\n",
       "      <th>OTRO</th>\n",
       "      <td>2</td>\n",
       "      <td>2</td>\n",
       "    </tr>\n",
       "    <tr>\n",
       "      <th>All</th>\n",
       "      <td>125</td>\n",
       "      <td>125</td>\n",
       "    </tr>\n",
       "  </tbody>\n",
       "</table>\n",
       "</div>"
      ],
      "text/plain": [
       "col_0   Alumnos  All\n",
       "Sexo                \n",
       "Hombre      101  101\n",
       "Mujer        22   22\n",
       "OTRO          2    2\n",
       "All         125  125"
      ]
     },
     "execution_count": 12,
     "metadata": {},
     "output_type": "execute_result"
    }
   ],
   "source": [
    "tab=pd.crosstab(index=dt['Sexo'],columns='Alumnos',margins=True)\n",
    "tab"
   ]
  },
  {
   "cell_type": "code",
   "execution_count": 13,
   "metadata": {
    "colab": {
     "base_uri": "https://localhost:8080/",
     "height": 204
    },
    "colab_type": "code",
    "id": "eBuzz49-jq65",
    "outputId": "d2dc5c9e-d0a6-48f4-ffe8-603fa1d9cb36"
   },
   "outputs": [
    {
     "data": {
      "text/html": [
       "<div>\n",
       "<style scoped>\n",
       "    .dataframe tbody tr th:only-of-type {\n",
       "        vertical-align: middle;\n",
       "    }\n",
       "\n",
       "    .dataframe tbody tr th {\n",
       "        vertical-align: top;\n",
       "    }\n",
       "\n",
       "    .dataframe thead th {\n",
       "        text-align: right;\n",
       "    }\n",
       "</style>\n",
       "<table border=\"1\" class=\"dataframe\">\n",
       "  <thead>\n",
       "    <tr style=\"text-align: right;\">\n",
       "      <th></th>\n",
       "      <th>NAC</th>\n",
       "      <th>PARR</th>\n",
       "      <th>PAR</th>\n",
       "      <th>Total</th>\n",
       "    </tr>\n",
       "    <tr>\n",
       "      <th>Sexo</th>\n",
       "      <th></th>\n",
       "      <th></th>\n",
       "      <th></th>\n",
       "      <th></th>\n",
       "    </tr>\n",
       "  </thead>\n",
       "  <tbody>\n",
       "    <tr>\n",
       "      <th>Hombre</th>\n",
       "      <td>43</td>\n",
       "      <td>11</td>\n",
       "      <td>47</td>\n",
       "      <td>101</td>\n",
       "    </tr>\n",
       "    <tr>\n",
       "      <th>Mujer</th>\n",
       "      <td>10</td>\n",
       "      <td>4</td>\n",
       "      <td>8</td>\n",
       "      <td>22</td>\n",
       "    </tr>\n",
       "    <tr>\n",
       "      <th>OTRO</th>\n",
       "      <td>0</td>\n",
       "      <td>0</td>\n",
       "      <td>2</td>\n",
       "      <td>2</td>\n",
       "    </tr>\n",
       "    <tr>\n",
       "      <th>All</th>\n",
       "      <td>53</td>\n",
       "      <td>15</td>\n",
       "      <td>57</td>\n",
       "      <td>125</td>\n",
       "    </tr>\n",
       "  </tbody>\n",
       "</table>\n",
       "</div>"
      ],
      "text/plain": [
       "        NAC  PARR  PAR  Total\n",
       "Sexo                         \n",
       "Hombre   43    11   47    101\n",
       "Mujer    10     4    8     22\n",
       "OTRO      0     0    2      2\n",
       "All      53    15   57    125"
      ]
     },
     "execution_count": 13,
     "metadata": {},
     "output_type": "execute_result"
    }
   ],
   "source": [
    "#Muestra tabla de contigencia de alumnos por sexo y tipo de colegio(Nacional Particular)\n",
    "tab=pd.crosstab(index=dt['Sexo'],columns=dt['TipoCole'],margins=True)\n",
    "tab.columns=['NAC', 'PARR','PAR','Total']\n",
    "tab\n"
   ]
  },
  {
   "cell_type": "code",
   "execution_count": 14,
   "metadata": {
    "colab": {
     "base_uri": "https://localhost:8080/",
     "height": 142
    },
    "colab_type": "code",
    "id": "VPs2VdU9jq67",
    "outputId": "8a8b65f2-6cdb-4ac0-9e8e-4577efcadb95"
   },
   "outputs": [
    {
     "data": {
      "text/html": [
       "<div>\n",
       "<style scoped>\n",
       "    .dataframe tbody tr th:only-of-type {\n",
       "        vertical-align: middle;\n",
       "    }\n",
       "\n",
       "    .dataframe tbody tr th {\n",
       "        vertical-align: top;\n",
       "    }\n",
       "\n",
       "    .dataframe thead tr th {\n",
       "        text-align: left;\n",
       "    }\n",
       "\n",
       "    .dataframe thead tr:last-of-type th {\n",
       "        text-align: right;\n",
       "    }\n",
       "</style>\n",
       "<table border=\"1\" class=\"dataframe\">\n",
       "  <thead>\n",
       "    <tr>\n",
       "      <th>TipoCole</th>\n",
       "      <th colspan=\"2\" halign=\"left\">NACIONAL</th>\n",
       "      <th colspan=\"2\" halign=\"left\">PARROQUIAL</th>\n",
       "      <th colspan=\"3\" halign=\"left\">PARTICULAR</th>\n",
       "    </tr>\n",
       "    <tr>\n",
       "      <th>Sexo</th>\n",
       "      <th>Hombre</th>\n",
       "      <th>Mujer</th>\n",
       "      <th>Hombre</th>\n",
       "      <th>Mujer</th>\n",
       "      <th>Hombre</th>\n",
       "      <th>Mujer</th>\n",
       "      <th>OTRO</th>\n",
       "    </tr>\n",
       "    <tr>\n",
       "      <th>row_0</th>\n",
       "      <th></th>\n",
       "      <th></th>\n",
       "      <th></th>\n",
       "      <th></th>\n",
       "      <th></th>\n",
       "      <th></th>\n",
       "      <th></th>\n",
       "    </tr>\n",
       "  </thead>\n",
       "  <tbody>\n",
       "    <tr>\n",
       "      <th>Alumnos</th>\n",
       "      <td>43</td>\n",
       "      <td>10</td>\n",
       "      <td>11</td>\n",
       "      <td>4</td>\n",
       "      <td>47</td>\n",
       "      <td>8</td>\n",
       "      <td>2</td>\n",
       "    </tr>\n",
       "  </tbody>\n",
       "</table>\n",
       "</div>"
      ],
      "text/plain": [
       "TipoCole NACIONAL       PARROQUIAL       PARTICULAR           \n",
       "Sexo       Hombre Mujer     Hombre Mujer     Hombre Mujer OTRO\n",
       "row_0                                                         \n",
       "Alumnos        43    10         11     4         47     8    2"
      ]
     },
     "execution_count": 14,
     "metadata": {},
     "output_type": "execute_result"
    }
   ],
   "source": [
    "tab=pd.crosstab(index=['Alumnos'],columns=[dt['TipoCole'],dt['Sexo']])\n",
    "tab"
   ]
  },
  {
   "cell_type": "code",
   "execution_count": 15,
   "metadata": {
    "colab": {
     "base_uri": "https://localhost:8080/",
     "height": 441
    },
    "colab_type": "code",
    "id": "twPq54wgjq69",
    "outputId": "8ef0d637-5972-4964-e464-34029633cd1d"
   },
   "outputs": [
    {
     "data": {
      "text/html": [
       "<div>\n",
       "<style scoped>\n",
       "    .dataframe tbody tr th:only-of-type {\n",
       "        vertical-align: middle;\n",
       "    }\n",
       "\n",
       "    .dataframe tbody tr th {\n",
       "        vertical-align: top;\n",
       "    }\n",
       "\n",
       "    .dataframe thead th {\n",
       "        text-align: right;\n",
       "    }\n",
       "</style>\n",
       "<table border=\"1\" class=\"dataframe\">\n",
       "  <thead>\n",
       "    <tr style=\"text-align: right;\">\n",
       "      <th></th>\n",
       "      <th>Codigo</th>\n",
       "      <th>AnioNac</th>\n",
       "      <th>Sexo</th>\n",
       "      <th>Resid</th>\n",
       "      <th>TipoCole</th>\n",
       "      <th>MesIngres</th>\n",
       "      <th>TipoIngres</th>\n",
       "      <th>PuntajeIngre</th>\n",
       "      <th>CurDes1Ano</th>\n",
       "      <th>PrimRep</th>\n",
       "      <th>...</th>\n",
       "      <th>EstadCivilInicio</th>\n",
       "      <th>PrepaAcademia</th>\n",
       "      <th>TempPrepAcadem</th>\n",
       "      <th>EdadIngreso</th>\n",
       "      <th>AporteEcono</th>\n",
       "      <th>TrabajoUniversi1Anio</th>\n",
       "      <th>SatisfCalidad</th>\n",
       "      <th>VocacionXpresion</th>\n",
       "      <th>PadreSep</th>\n",
       "      <th>ProbFamiliFreq</th>\n",
       "    </tr>\n",
       "    <tr>\n",
       "      <th>CiudNac</th>\n",
       "      <th></th>\n",
       "      <th></th>\n",
       "      <th></th>\n",
       "      <th></th>\n",
       "      <th></th>\n",
       "      <th></th>\n",
       "      <th></th>\n",
       "      <th></th>\n",
       "      <th></th>\n",
       "      <th></th>\n",
       "      <th></th>\n",
       "      <th></th>\n",
       "      <th></th>\n",
       "      <th></th>\n",
       "      <th></th>\n",
       "      <th></th>\n",
       "      <th></th>\n",
       "      <th></th>\n",
       "      <th></th>\n",
       "      <th></th>\n",
       "      <th></th>\n",
       "    </tr>\n",
       "  </thead>\n",
       "  <tbody>\n",
       "    <tr>\n",
       "      <th>Ancash</th>\n",
       "      <td>4</td>\n",
       "      <td>4</td>\n",
       "      <td>4</td>\n",
       "      <td>4</td>\n",
       "      <td>4</td>\n",
       "      <td>4</td>\n",
       "      <td>4</td>\n",
       "      <td>4</td>\n",
       "      <td>4</td>\n",
       "      <td>4</td>\n",
       "      <td>...</td>\n",
       "      <td>4</td>\n",
       "      <td>4</td>\n",
       "      <td>4</td>\n",
       "      <td>4</td>\n",
       "      <td>4</td>\n",
       "      <td>4</td>\n",
       "      <td>4</td>\n",
       "      <td>4</td>\n",
       "      <td>4</td>\n",
       "      <td>4</td>\n",
       "    </tr>\n",
       "    <tr>\n",
       "      <th>Apurimac</th>\n",
       "      <td>1</td>\n",
       "      <td>1</td>\n",
       "      <td>1</td>\n",
       "      <td>1</td>\n",
       "      <td>1</td>\n",
       "      <td>1</td>\n",
       "      <td>1</td>\n",
       "      <td>1</td>\n",
       "      <td>1</td>\n",
       "      <td>1</td>\n",
       "      <td>...</td>\n",
       "      <td>1</td>\n",
       "      <td>1</td>\n",
       "      <td>1</td>\n",
       "      <td>1</td>\n",
       "      <td>1</td>\n",
       "      <td>1</td>\n",
       "      <td>1</td>\n",
       "      <td>1</td>\n",
       "      <td>1</td>\n",
       "      <td>1</td>\n",
       "    </tr>\n",
       "    <tr>\n",
       "      <th>Arequipa</th>\n",
       "      <td>1</td>\n",
       "      <td>1</td>\n",
       "      <td>1</td>\n",
       "      <td>1</td>\n",
       "      <td>1</td>\n",
       "      <td>1</td>\n",
       "      <td>1</td>\n",
       "      <td>1</td>\n",
       "      <td>1</td>\n",
       "      <td>1</td>\n",
       "      <td>...</td>\n",
       "      <td>1</td>\n",
       "      <td>1</td>\n",
       "      <td>1</td>\n",
       "      <td>1</td>\n",
       "      <td>1</td>\n",
       "      <td>1</td>\n",
       "      <td>1</td>\n",
       "      <td>1</td>\n",
       "      <td>1</td>\n",
       "      <td>1</td>\n",
       "    </tr>\n",
       "    <tr>\n",
       "      <th>Ayacucho</th>\n",
       "      <td>2</td>\n",
       "      <td>2</td>\n",
       "      <td>2</td>\n",
       "      <td>2</td>\n",
       "      <td>2</td>\n",
       "      <td>2</td>\n",
       "      <td>2</td>\n",
       "      <td>2</td>\n",
       "      <td>2</td>\n",
       "      <td>2</td>\n",
       "      <td>...</td>\n",
       "      <td>2</td>\n",
       "      <td>2</td>\n",
       "      <td>2</td>\n",
       "      <td>2</td>\n",
       "      <td>2</td>\n",
       "      <td>2</td>\n",
       "      <td>2</td>\n",
       "      <td>2</td>\n",
       "      <td>2</td>\n",
       "      <td>2</td>\n",
       "    </tr>\n",
       "    <tr>\n",
       "      <th>Callao</th>\n",
       "      <td>6</td>\n",
       "      <td>6</td>\n",
       "      <td>6</td>\n",
       "      <td>6</td>\n",
       "      <td>6</td>\n",
       "      <td>6</td>\n",
       "      <td>6</td>\n",
       "      <td>6</td>\n",
       "      <td>6</td>\n",
       "      <td>6</td>\n",
       "      <td>...</td>\n",
       "      <td>6</td>\n",
       "      <td>6</td>\n",
       "      <td>6</td>\n",
       "      <td>6</td>\n",
       "      <td>6</td>\n",
       "      <td>6</td>\n",
       "      <td>6</td>\n",
       "      <td>6</td>\n",
       "      <td>5</td>\n",
       "      <td>5</td>\n",
       "    </tr>\n",
       "    <tr>\n",
       "      <th>Cusco</th>\n",
       "      <td>2</td>\n",
       "      <td>2</td>\n",
       "      <td>2</td>\n",
       "      <td>2</td>\n",
       "      <td>2</td>\n",
       "      <td>2</td>\n",
       "      <td>2</td>\n",
       "      <td>2</td>\n",
       "      <td>2</td>\n",
       "      <td>2</td>\n",
       "      <td>...</td>\n",
       "      <td>2</td>\n",
       "      <td>2</td>\n",
       "      <td>2</td>\n",
       "      <td>2</td>\n",
       "      <td>2</td>\n",
       "      <td>2</td>\n",
       "      <td>2</td>\n",
       "      <td>2</td>\n",
       "      <td>2</td>\n",
       "      <td>2</td>\n",
       "    </tr>\n",
       "    <tr>\n",
       "      <th>Huanuco</th>\n",
       "      <td>1</td>\n",
       "      <td>1</td>\n",
       "      <td>1</td>\n",
       "      <td>1</td>\n",
       "      <td>1</td>\n",
       "      <td>1</td>\n",
       "      <td>1</td>\n",
       "      <td>1</td>\n",
       "      <td>1</td>\n",
       "      <td>1</td>\n",
       "      <td>...</td>\n",
       "      <td>1</td>\n",
       "      <td>1</td>\n",
       "      <td>1</td>\n",
       "      <td>1</td>\n",
       "      <td>1</td>\n",
       "      <td>1</td>\n",
       "      <td>1</td>\n",
       "      <td>1</td>\n",
       "      <td>1</td>\n",
       "      <td>1</td>\n",
       "    </tr>\n",
       "    <tr>\n",
       "      <th>Junín</th>\n",
       "      <td>4</td>\n",
       "      <td>4</td>\n",
       "      <td>4</td>\n",
       "      <td>4</td>\n",
       "      <td>4</td>\n",
       "      <td>4</td>\n",
       "      <td>4</td>\n",
       "      <td>4</td>\n",
       "      <td>4</td>\n",
       "      <td>4</td>\n",
       "      <td>...</td>\n",
       "      <td>4</td>\n",
       "      <td>4</td>\n",
       "      <td>4</td>\n",
       "      <td>4</td>\n",
       "      <td>4</td>\n",
       "      <td>4</td>\n",
       "      <td>4</td>\n",
       "      <td>4</td>\n",
       "      <td>4</td>\n",
       "      <td>4</td>\n",
       "    </tr>\n",
       "    <tr>\n",
       "      <th>Lima</th>\n",
       "      <td>96</td>\n",
       "      <td>96</td>\n",
       "      <td>96</td>\n",
       "      <td>96</td>\n",
       "      <td>96</td>\n",
       "      <td>96</td>\n",
       "      <td>96</td>\n",
       "      <td>96</td>\n",
       "      <td>96</td>\n",
       "      <td>96</td>\n",
       "      <td>...</td>\n",
       "      <td>96</td>\n",
       "      <td>96</td>\n",
       "      <td>96</td>\n",
       "      <td>96</td>\n",
       "      <td>96</td>\n",
       "      <td>96</td>\n",
       "      <td>96</td>\n",
       "      <td>96</td>\n",
       "      <td>96</td>\n",
       "      <td>95</td>\n",
       "    </tr>\n",
       "    <tr>\n",
       "      <th>Piura</th>\n",
       "      <td>1</td>\n",
       "      <td>1</td>\n",
       "      <td>1</td>\n",
       "      <td>1</td>\n",
       "      <td>1</td>\n",
       "      <td>1</td>\n",
       "      <td>1</td>\n",
       "      <td>1</td>\n",
       "      <td>1</td>\n",
       "      <td>1</td>\n",
       "      <td>...</td>\n",
       "      <td>1</td>\n",
       "      <td>1</td>\n",
       "      <td>1</td>\n",
       "      <td>1</td>\n",
       "      <td>1</td>\n",
       "      <td>1</td>\n",
       "      <td>1</td>\n",
       "      <td>1</td>\n",
       "      <td>1</td>\n",
       "      <td>1</td>\n",
       "    </tr>\n",
       "    <tr>\n",
       "      <th>Puno</th>\n",
       "      <td>1</td>\n",
       "      <td>1</td>\n",
       "      <td>1</td>\n",
       "      <td>1</td>\n",
       "      <td>1</td>\n",
       "      <td>1</td>\n",
       "      <td>1</td>\n",
       "      <td>1</td>\n",
       "      <td>1</td>\n",
       "      <td>1</td>\n",
       "      <td>...</td>\n",
       "      <td>1</td>\n",
       "      <td>1</td>\n",
       "      <td>1</td>\n",
       "      <td>1</td>\n",
       "      <td>1</td>\n",
       "      <td>1</td>\n",
       "      <td>1</td>\n",
       "      <td>1</td>\n",
       "      <td>1</td>\n",
       "      <td>1</td>\n",
       "    </tr>\n",
       "  </tbody>\n",
       "</table>\n",
       "<p>11 rows × 31 columns</p>\n",
       "</div>"
      ],
      "text/plain": [
       "          Codigo  AnioNac  Sexo  Resid  TipoCole  MesIngres  TipoIngres  \\\n",
       "CiudNac                                                                   \n",
       "Ancash         4        4     4      4         4          4           4   \n",
       "Apurimac       1        1     1      1         1          1           1   \n",
       "Arequipa       1        1     1      1         1          1           1   \n",
       "Ayacucho       2        2     2      2         2          2           2   \n",
       "Callao         6        6     6      6         6          6           6   \n",
       "Cusco          2        2     2      2         2          2           2   \n",
       "Huanuco        1        1     1      1         1          1           1   \n",
       "Junín          4        4     4      4         4          4           4   \n",
       "Lima          96       96    96     96        96         96          96   \n",
       "Piura          1        1     1      1         1          1           1   \n",
       "Puno           1        1     1      1         1          1           1   \n",
       "\n",
       "          PuntajeIngre  CurDes1Ano  PrimRep  ...  EstadCivilInicio  \\\n",
       "CiudNac                                      ...                     \n",
       "Ancash               4           4        4  ...                 4   \n",
       "Apurimac             1           1        1  ...                 1   \n",
       "Arequipa             1           1        1  ...                 1   \n",
       "Ayacucho             2           2        2  ...                 2   \n",
       "Callao               6           6        6  ...                 6   \n",
       "Cusco                2           2        2  ...                 2   \n",
       "Huanuco              1           1        1  ...                 1   \n",
       "Junín                4           4        4  ...                 4   \n",
       "Lima                96          96       96  ...                96   \n",
       "Piura                1           1        1  ...                 1   \n",
       "Puno                 1           1        1  ...                 1   \n",
       "\n",
       "          PrepaAcademia  TempPrepAcadem  EdadIngreso  AporteEcono  \\\n",
       "CiudNac                                                             \n",
       "Ancash                4               4            4            4   \n",
       "Apurimac              1               1            1            1   \n",
       "Arequipa              1               1            1            1   \n",
       "Ayacucho              2               2            2            2   \n",
       "Callao                6               6            6            6   \n",
       "Cusco                 2               2            2            2   \n",
       "Huanuco               1               1            1            1   \n",
       "Junín                 4               4            4            4   \n",
       "Lima                 96              96           96           96   \n",
       "Piura                 1               1            1            1   \n",
       "Puno                  1               1            1            1   \n",
       "\n",
       "          TrabajoUniversi1Anio  SatisfCalidad  VocacionXpresion  PadreSep  \\\n",
       "CiudNac                                                                     \n",
       "Ancash                       4              4                 4         4   \n",
       "Apurimac                     1              1                 1         1   \n",
       "Arequipa                     1              1                 1         1   \n",
       "Ayacucho                     2              2                 2         2   \n",
       "Callao                       6              6                 6         5   \n",
       "Cusco                        2              2                 2         2   \n",
       "Huanuco                      1              1                 1         1   \n",
       "Junín                        4              4                 4         4   \n",
       "Lima                        96             96                96        96   \n",
       "Piura                        1              1                 1         1   \n",
       "Puno                         1              1                 1         1   \n",
       "\n",
       "          ProbFamiliFreq  \n",
       "CiudNac                   \n",
       "Ancash                 4  \n",
       "Apurimac               1  \n",
       "Arequipa               1  \n",
       "Ayacucho               2  \n",
       "Callao                 5  \n",
       "Cusco                  2  \n",
       "Huanuco                1  \n",
       "Junín                  4  \n",
       "Lima                  95  \n",
       "Piura                  1  \n",
       "Puno                   1  \n",
       "\n",
       "[11 rows x 31 columns]"
      ]
     },
     "execution_count": 15,
     "metadata": {},
     "output_type": "execute_result"
    }
   ],
   "source": [
    "#Agrupaciones \n",
    "dt.groupby(['CiudNac']).count()"
   ]
  },
  {
   "cell_type": "code",
   "execution_count": 16,
   "metadata": {
    "colab": {
     "base_uri": "https://localhost:8080/",
     "height": 578
    },
    "colab_type": "code",
    "id": "i-V7fh1Tjq6-",
    "outputId": "f95e13dc-376d-4fdf-a865-699f1f773ea7"
   },
   "outputs": [
    {
     "data": {
      "text/plain": [
       "Codigo                  0\n",
       "AnioNac                 0\n",
       "Sexo                    0\n",
       "Resid                   0\n",
       "TipoCole                0\n",
       "MesIngres               0\n",
       "TipoIngres              0\n",
       "PuntajeIngre            0\n",
       "CurDes1Ano              0\n",
       "PrimRep                 0\n",
       "SegRep                  0\n",
       "TercRep                 0\n",
       "Mas3Rep                 0\n",
       "EduMadre                0\n",
       "EduPadre                0\n",
       "OcuPadre                1\n",
       "OcuMadre                1\n",
       "ClaseSoc                0\n",
       "TempViajeUni            0\n",
       "NumHermano              0\n",
       "HermanoEstSup           0\n",
       "EstadCivilInicio        0\n",
       "PrepaAcademia           0\n",
       "TempPrepAcadem          0\n",
       "EdadIngreso             0\n",
       "AporteEcono             0\n",
       "TrabajoUniversi1Anio    0\n",
       "SatisfCalidad           0\n",
       "VocacionXpresion        0\n",
       "CiudNac                 6\n",
       "PadreSep                7\n",
       "ProbFamiliFreq          8\n",
       "dtype: int64"
      ]
     },
     "execution_count": 16,
     "metadata": {},
     "output_type": "execute_result"
    }
   ],
   "source": [
    "#cuento los valores nulos por cada columna \n",
    "dt.isnull().sum(axis=0)\n"
   ]
  },
  {
   "cell_type": "code",
   "execution_count": 17,
   "metadata": {
    "colab": {
     "base_uri": "https://localhost:8080/",
     "height": 221
    },
    "colab_type": "code",
    "id": "GYHmMBVMjq7A",
    "outputId": "806c009a-0c7e-4c94-e966-2c1dec988572"
   },
   "outputs": [
    {
     "data": {
      "text/plain": [
       "Lima        96\n",
       "Callao       6\n",
       "Ancash       4\n",
       "Junín        4\n",
       "Cusco        2\n",
       "Ayacucho     2\n",
       "Apurimac     1\n",
       "Puno         1\n",
       "Piura        1\n",
       "Arequipa     1\n",
       "Huanuco      1\n",
       "Name: CiudNac, dtype: int64"
      ]
     },
     "execution_count": 17,
     "metadata": {},
     "output_type": "execute_result"
    }
   ],
   "source": [
    "dt.CiudNac.value_counts()"
   ]
  },
  {
   "cell_type": "code",
   "execution_count": 18,
   "metadata": {
    "colab": {
     "base_uri": "https://localhost:8080/",
     "height": 151
    },
    "colab_type": "code",
    "id": "K9tGB3Ihjq7F",
    "outputId": "14a40e31-52e7-4a80-b40d-404edf360af6"
   },
   "outputs": [
    {
     "data": {
      "text/html": [
       "<div>\n",
       "<style scoped>\n",
       "    .dataframe tbody tr th:only-of-type {\n",
       "        vertical-align: middle;\n",
       "    }\n",
       "\n",
       "    .dataframe tbody tr th {\n",
       "        vertical-align: top;\n",
       "    }\n",
       "\n",
       "    .dataframe thead th {\n",
       "        text-align: right;\n",
       "    }\n",
       "</style>\n",
       "<table border=\"1\" class=\"dataframe\">\n",
       "  <thead>\n",
       "    <tr style=\"text-align: right;\">\n",
       "      <th></th>\n",
       "      <th>Codigo</th>\n",
       "      <th>AnioNac</th>\n",
       "      <th>Sexo</th>\n",
       "      <th>Resid</th>\n",
       "      <th>TipoCole</th>\n",
       "      <th>MesIngres</th>\n",
       "      <th>TipoIngres</th>\n",
       "      <th>PuntajeIngre</th>\n",
       "      <th>CurDes1Ano</th>\n",
       "      <th>PrimRep</th>\n",
       "      <th>...</th>\n",
       "      <th>PrepaAcademia</th>\n",
       "      <th>TempPrepAcadem</th>\n",
       "      <th>EdadIngreso</th>\n",
       "      <th>AporteEcono</th>\n",
       "      <th>TrabajoUniversi1Anio</th>\n",
       "      <th>SatisfCalidad</th>\n",
       "      <th>VocacionXpresion</th>\n",
       "      <th>CiudNac</th>\n",
       "      <th>PadreSep</th>\n",
       "      <th>ProbFamiliFreq</th>\n",
       "    </tr>\n",
       "  </thead>\n",
       "  <tbody>\n",
       "    <tr>\n",
       "      <th>1</th>\n",
       "      <td>15200015</td>\n",
       "      <td>1995</td>\n",
       "      <td>Hombre</td>\n",
       "      <td>SAN MARTIN DE PORRES</td>\n",
       "      <td>PARTICULAR</td>\n",
       "      <td>Setiembre</td>\n",
       "      <td>EXAMEN ORDINARIO</td>\n",
       "      <td>1530.0</td>\n",
       "      <td>0</td>\n",
       "      <td>4</td>\n",
       "      <td>...</td>\n",
       "      <td>Sí</td>\n",
       "      <td>DOS AÑOS</td>\n",
       "      <td>19</td>\n",
       "      <td>NO</td>\n",
       "      <td>Sí</td>\n",
       "      <td>No</td>\n",
       "      <td>Sí</td>\n",
       "      <td>NaN</td>\n",
       "      <td>NaN</td>\n",
       "      <td>NaN</td>\n",
       "    </tr>\n",
       "  </tbody>\n",
       "</table>\n",
       "<p>1 rows × 32 columns</p>\n",
       "</div>"
      ],
      "text/plain": [
       "     Codigo  AnioNac    Sexo                 Resid    TipoCole  MesIngres  \\\n",
       "1  15200015     1995  Hombre  SAN MARTIN DE PORRES  PARTICULAR  Setiembre   \n",
       "\n",
       "         TipoIngres  PuntajeIngre  CurDes1Ano  PrimRep  ...  PrepaAcademia  \\\n",
       "1  EXAMEN ORDINARIO        1530.0           0        4  ...             Sí   \n",
       "\n",
       "   TempPrepAcadem EdadIngreso AporteEcono TrabajoUniversi1Anio SatisfCalidad  \\\n",
       "1        DOS AÑOS          19          NO                   Sí            No   \n",
       "\n",
       "  VocacionXpresion CiudNac PadreSep  ProbFamiliFreq  \n",
       "1               Sí     NaN      NaN             NaN  \n",
       "\n",
       "[1 rows x 32 columns]"
      ]
     },
     "execution_count": 18,
     "metadata": {},
     "output_type": "execute_result"
    }
   ],
   "source": [
    "fil=dt[dt.OcuPadre.isnull()]\n",
    "fil"
   ]
  },
  {
   "cell_type": "code",
   "execution_count": 19,
   "metadata": {
    "colab": {
     "base_uri": "https://localhost:8080/",
     "height": 0
    },
    "colab_type": "code",
    "id": "CAxA7eiijq7H",
    "outputId": "214ad271-d099-4c1a-f455-3e1fbe674ae9"
   },
   "outputs": [
    {
     "data": {
      "text/plain": [
       "Lima        102\n",
       "Callao        6\n",
       "Ancash        4\n",
       "Junín         4\n",
       "Cusco         2\n",
       "Ayacucho      2\n",
       "Apurimac      1\n",
       "Puno          1\n",
       "Piura         1\n",
       "Arequipa      1\n",
       "Huanuco       1\n",
       "Name: CiudNac, dtype: int64"
      ]
     },
     "execution_count": 19,
     "metadata": {},
     "output_type": "execute_result"
    }
   ],
   "source": [
    "#LLenando valores nulos de CiudNac por la MODA del campo ciudad \n",
    "dt.loc[:,'CiudNac']=dt.loc[:,'CiudNac'].fillna(dt.CiudNac.value_counts().index[0])\n",
    "dt.CiudNac.value_counts()"
   ]
  },
  {
   "cell_type": "code",
   "execution_count": 20,
   "metadata": {
    "colab": {
     "base_uri": "https://localhost:8080/",
     "height": 0
    },
    "colab_type": "code",
    "id": "WZTnMMvwjq7K",
    "outputId": "5c5b0ffc-845d-48d3-b28f-72c49a97cc0e"
   },
   "outputs": [
    {
     "data": {
      "text/plain": [
       "Codigo                  0\n",
       "AnioNac                 0\n",
       "Sexo                    0\n",
       "Resid                   0\n",
       "TipoCole                0\n",
       "MesIngres               0\n",
       "TipoIngres              0\n",
       "PuntajeIngre            0\n",
       "CurDes1Ano              0\n",
       "PrimRep                 0\n",
       "SegRep                  0\n",
       "TercRep                 0\n",
       "Mas3Rep                 0\n",
       "EduMadre                0\n",
       "EduPadre                0\n",
       "OcuPadre                1\n",
       "OcuMadre                1\n",
       "ClaseSoc                0\n",
       "TempViajeUni            0\n",
       "NumHermano              0\n",
       "HermanoEstSup           0\n",
       "EstadCivilInicio        0\n",
       "PrepaAcademia           0\n",
       "TempPrepAcadem          0\n",
       "EdadIngreso             0\n",
       "AporteEcono             0\n",
       "TrabajoUniversi1Anio    0\n",
       "SatisfCalidad           0\n",
       "VocacionXpresion        0\n",
       "CiudNac                 0\n",
       "PadreSep                7\n",
       "ProbFamiliFreq          8\n",
       "dtype: int64"
      ]
     },
     "execution_count": 20,
     "metadata": {},
     "output_type": "execute_result"
    }
   ],
   "source": [
    "dt.isnull().sum(axis=0)"
   ]
  },
  {
   "cell_type": "code",
   "execution_count": 21,
   "metadata": {
    "colab": {
     "base_uri": "https://localhost:8080/",
     "height": 0
    },
    "colab_type": "code",
    "id": "EKywFagyjq7M",
    "outputId": "a2eb23bd-cecc-4d23-c1d7-da19a14c6df5"
   },
   "outputs": [
    {
     "data": {
      "text/plain": [
       "OCUPACIONES BASICAS                                                                72\n",
       "TRABAJADORES DE SERVICIOS DE PROTECCION, PERSONALES, RESTAURACION, Y VENDEDORES    17\n",
       "PROFESIONAL                                                                        12\n",
       "TECNICO O PROFESIONAL DE APOYO                                                     10\n",
       "EMPLEADO CONTABLE, ADMINISTRATIVO U OTRO EMPLEADO DE OFICINA                        8\n",
       "TRABAJADORES DE LA INDUSTRIA MANUFACTURERA O CONSTRUCCION                           3\n",
       "TRABAJADORES EN EL SECTOR AGRICOLA, PESQUERO, GANADERO O FORESTAL                   2\n",
       "Name: OcuMadre, dtype: int64"
      ]
     },
     "execution_count": 21,
     "metadata": {},
     "output_type": "execute_result"
    }
   ],
   "source": [
    "dt.OcuMadre.value_counts()"
   ]
  },
  {
   "cell_type": "code",
   "execution_count": 22,
   "metadata": {
    "colab": {
     "base_uri": "https://localhost:8080/",
     "height": 0
    },
    "colab_type": "code",
    "id": "4fiZxUr9jq7O",
    "outputId": "c59e0855-1c82-4f0d-ec24-02e1ab5de60e"
   },
   "outputs": [
    {
     "data": {
      "text/plain": [
       "Codigo                  0\n",
       "AnioNac                 0\n",
       "Sexo                    0\n",
       "Resid                   0\n",
       "TipoCole                0\n",
       "MesIngres               0\n",
       "TipoIngres              0\n",
       "PuntajeIngre            0\n",
       "CurDes1Ano              0\n",
       "PrimRep                 0\n",
       "SegRep                  0\n",
       "TercRep                 0\n",
       "Mas3Rep                 0\n",
       "EduMadre                0\n",
       "EduPadre                0\n",
       "OcuPadre                1\n",
       "OcuMadre                0\n",
       "ClaseSoc                0\n",
       "TempViajeUni            0\n",
       "NumHermano              0\n",
       "HermanoEstSup           0\n",
       "EstadCivilInicio        0\n",
       "PrepaAcademia           0\n",
       "TempPrepAcadem          0\n",
       "EdadIngreso             0\n",
       "AporteEcono             0\n",
       "TrabajoUniversi1Anio    0\n",
       "SatisfCalidad           0\n",
       "VocacionXpresion        0\n",
       "CiudNac                 0\n",
       "PadreSep                7\n",
       "ProbFamiliFreq          8\n",
       "dtype: int64"
      ]
     },
     "execution_count": 22,
     "metadata": {},
     "output_type": "execute_result"
    }
   ],
   "source": [
    "#LLenando valores nulos de OcuMadre\n",
    "dt.loc[:,'OcuMadre']=dt.loc[:,'OcuMadre'].fillna(dt.OcuMadre.value_counts().index[0])\n",
    "dt.isnull().sum(axis=0)"
   ]
  },
  {
   "cell_type": "code",
   "execution_count": 23,
   "metadata": {
    "colab": {
     "base_uri": "https://localhost:8080/",
     "height": 0
    },
    "colab_type": "code",
    "id": "SU6BVuCpjq7R",
    "outputId": "a959b3f6-5626-4785-b07c-c96cdc34fc06"
   },
   "outputs": [
    {
     "data": {
      "text/plain": [
       "No    80\n",
       "Sí    38\n",
       "Name: PadreSep, dtype: int64"
      ]
     },
     "execution_count": 23,
     "metadata": {},
     "output_type": "execute_result"
    }
   ],
   "source": [
    "#Conteo de si tiene  padres serparados \n",
    "dt.PadreSep.value_counts()"
   ]
  },
  {
   "cell_type": "code",
   "execution_count": 24,
   "metadata": {
    "colab": {
     "base_uri": "https://localhost:8080/",
     "height": 0
    },
    "colab_type": "code",
    "id": "mFy-AuA5jq7T",
    "outputId": "d3d73a0a-f130-44b6-cf70-adba0b71faa9"
   },
   "outputs": [
    {
     "data": {
      "text/plain": [
       "No    87\n",
       "Sí    38\n",
       "Name: PadreSep, dtype: int64"
      ]
     },
     "execution_count": 24,
     "metadata": {},
     "output_type": "execute_result"
    }
   ],
   "source": [
    "#LLenado de valores nuelos del campo de padres separados \n",
    "dt.PadreSep.fillna(dt.PadreSep.value_counts().index[0],inplace=True)\n",
    "dt.PadreSep.value_counts()"
   ]
  },
  {
   "cell_type": "code",
   "execution_count": 25,
   "metadata": {
    "colab": {
     "base_uri": "https://localhost:8080/",
     "height": 0
    },
    "colab_type": "code",
    "id": "zKTkMG1Xjq7V",
    "outputId": "526b8697-d4ef-4df3-e0a5-8aba0707b5e7"
   },
   "outputs": [
    {
     "data": {
      "text/plain": [
       "No    87\n",
       "Sí    30\n",
       "Name: ProbFamiliFreq, dtype: int64"
      ]
     },
     "execution_count": 25,
     "metadata": {},
     "output_type": "execute_result"
    }
   ],
   "source": [
    "#Problemas familiares\n",
    "dt.ProbFamiliFreq.value_counts()"
   ]
  },
  {
   "cell_type": "code",
   "execution_count": 26,
   "metadata": {
    "colab": {
     "base_uri": "https://localhost:8080/",
     "height": 0
    },
    "colab_type": "code",
    "id": "H9wMCKq1jq7X",
    "outputId": "494b745a-3c37-47cc-fa95-1c89c512da36"
   },
   "outputs": [
    {
     "data": {
      "text/plain": [
       "No    95\n",
       "Sí    30\n",
       "Name: ProbFamiliFreq, dtype: int64"
      ]
     },
     "execution_count": 26,
     "metadata": {},
     "output_type": "execute_result"
    }
   ],
   "source": [
    "dt.ProbFamiliFreq.fillna(dt.ProbFamiliFreq.value_counts().index[0],inplace=True)\n",
    "dt.ProbFamiliFreq.value_counts()"
   ]
  },
  {
   "cell_type": "code",
   "execution_count": 27,
   "metadata": {
    "colab": {
     "base_uri": "https://localhost:8080/",
     "height": 0
    },
    "colab_type": "code",
    "id": "SaZK3JRQjq7Z",
    "outputId": "8cf8571b-da8c-4c41-cb89-4d01a83a0671"
   },
   "outputs": [
    {
     "data": {
      "text/plain": [
       "Codigo                  0\n",
       "AnioNac                 0\n",
       "Sexo                    0\n",
       "Resid                   0\n",
       "TipoCole                0\n",
       "MesIngres               0\n",
       "TipoIngres              0\n",
       "PuntajeIngre            0\n",
       "CurDes1Ano              0\n",
       "PrimRep                 0\n",
       "SegRep                  0\n",
       "TercRep                 0\n",
       "Mas3Rep                 0\n",
       "EduMadre                0\n",
       "EduPadre                0\n",
       "OcuPadre                1\n",
       "OcuMadre                0\n",
       "ClaseSoc                0\n",
       "TempViajeUni            0\n",
       "NumHermano              0\n",
       "HermanoEstSup           0\n",
       "EstadCivilInicio        0\n",
       "PrepaAcademia           0\n",
       "TempPrepAcadem          0\n",
       "EdadIngreso             0\n",
       "AporteEcono             0\n",
       "TrabajoUniversi1Anio    0\n",
       "SatisfCalidad           0\n",
       "VocacionXpresion        0\n",
       "CiudNac                 0\n",
       "PadreSep                0\n",
       "ProbFamiliFreq          0\n",
       "dtype: int64"
      ]
     },
     "execution_count": 27,
     "metadata": {},
     "output_type": "execute_result"
    }
   ],
   "source": [
    "#vemos que campos aun son nulos \n",
    "dt.isnull().sum(axis=0)"
   ]
  },
  {
   "cell_type": "code",
   "execution_count": 28,
   "metadata": {
    "colab": {
     "base_uri": "https://localhost:8080/",
     "height": 0
    },
    "colab_type": "code",
    "id": "bq2J89Ftjq7d",
    "outputId": "5dfbd0c2-9494-4e3b-c049-e6f3e660e48e"
   },
   "outputs": [
    {
     "data": {
      "text/plain": [
       "count    1.250000e+02\n",
       "mean     1.365442e+05\n",
       "std      1.388986e+06\n",
       "min      1.100000e+01\n",
       "25%      1.300000e+03\n",
       "50%      1.410000e+03\n",
       "75%      1.500000e+03\n",
       "max      1.547625e+07\n",
       "Name: PuntajeIngre, dtype: float64"
      ]
     },
     "execution_count": 28,
     "metadata": {},
     "output_type": "execute_result"
    }
   ],
   "source": [
    "#estadisticas del campo Puntaje de ingreso a ala universidad \n",
    "dt.PuntajeIngre.describe()"
   ]
  },
  {
   "cell_type": "code",
   "execution_count": 29,
   "metadata": {
    "colab": {
     "base_uri": "https://localhost:8080/",
     "height": 0
    },
    "colab_type": "code",
    "id": "OssZbjESjq7f",
    "outputId": "8865dd61-e82e-4cfb-b686-c8fbfbe969af"
   },
   "outputs": [
    {
     "data": {
      "text/plain": [
       "11.0"
      ]
     },
     "execution_count": 29,
     "metadata": {},
     "output_type": "execute_result"
    }
   ],
   "source": [
    "dt.PuntajeIngre.min()"
   ]
  },
  {
   "cell_type": "code",
   "execution_count": 30,
   "metadata": {
    "colab": {
     "base_uri": "https://localhost:8080/",
     "height": 0
    },
    "colab_type": "code",
    "id": "GrO3YA8fjq7h",
    "outputId": "193e1c8d-c10c-4a04-ffc1-23b520d03a6c"
   },
   "outputs": [
    {
     "data": {
      "text/plain": [
       "15476250.0"
      ]
     },
     "execution_count": 30,
     "metadata": {},
     "output_type": "execute_result"
    }
   ],
   "source": [
    "dt.PuntajeIngre.max()"
   ]
  },
  {
   "cell_type": "markdown",
   "metadata": {},
   "source": [
    "### Como hay varias irregularidades hacemos un head "
   ]
  },
  {
   "cell_type": "code",
   "execution_count": 31,
   "metadata": {
    "colab": {
     "base_uri": "https://localhost:8080/",
     "height": 0
    },
    "colab_type": "code",
    "id": "KHmRKXjKjq7i",
    "outputId": "11812c13-8490-4cb4-e7ac-1a94ed68e266"
   },
   "outputs": [
    {
     "data": {
      "text/plain": [
       "104    15476250.0\n",
       "75      1430675.0\n",
       "22         1800.0\n",
       "120        1750.0\n",
       "103        1707.0\n",
       "Name: PuntajeIngre, dtype: float64"
      ]
     },
     "execution_count": 31,
     "metadata": {},
     "output_type": "execute_result"
    }
   ],
   "source": [
    "\n",
    "dt.PuntajeIngre.sort_values(ascending=False).head()"
   ]
  },
  {
   "cell_type": "code",
   "execution_count": 32,
   "metadata": {
    "colab": {
     "base_uri": "https://localhost:8080/",
     "height": 0
    },
    "colab_type": "code",
    "id": "WYSMBOy5jq7k",
    "outputId": "71eef1de-00c7-4bad-fc31-1a1c6b3327ca"
   },
   "outputs": [],
   "source": [
    "#trasformar a entero la columna de puntaje\n",
    "dt=dt.astype({'PuntajeIngre':int})\n"
   ]
  },
  {
   "cell_type": "code",
   "execution_count": 33,
   "metadata": {
    "colab": {
     "base_uri": "https://localhost:8080/",
     "height": 0
    },
    "colab_type": "code",
    "id": "HDFgi8pijq7m",
    "outputId": "7260715d-5789-4672-a6f0-d19d98f02f29"
   },
   "outputs": [],
   "source": [
    "#print(10**-int(len(str(dt.PuntajeIngre[0]))))"
   ]
  },
  {
   "cell_type": "code",
   "execution_count": 34,
   "metadata": {
    "colab": {
     "base_uri": "https://localhost:8080/",
     "height": 0
    },
    "colab_type": "code",
    "id": "w1qYqqPhjq7n",
    "outputId": "8b12a7c4-1f05-443b-c272-9d7eb209c4d1"
   },
   "outputs": [
    {
     "data": {
      "text/plain": [
       "count     125.000000\n",
       "mean     1288.800000\n",
       "std       422.309606\n",
       "min         0.000000\n",
       "25%      1300.000000\n",
       "50%      1405.000000\n",
       "75%      1500.000000\n",
       "max      1800.000000\n",
       "Name: PuntajeIngre, dtype: float64"
      ]
     },
     "execution_count": 34,
     "metadata": {},
     "output_type": "execute_result"
    }
   ],
   "source": [
    "#Como hay valores incosistentes que por error al momneto de insertar el dato\n",
    "# pasan mas de dos mil, que es el puntaje maximo de el examem, dividimos entre 10**n para estandarizar su valor\n",
    "dt['PuntajeIngre']=dt['PuntajeIngre'].apply(lambda x : int(x/10**(int(len(str(x))))) if x>2000 else int(x))\n",
    "dt['PuntajeIngre'].describe()"
   ]
  },
  {
   "cell_type": "code",
   "execution_count": 35,
   "metadata": {
    "colab": {
     "base_uri": "https://localhost:8080/",
     "height": 0
    },
    "colab_type": "code",
    "id": "RkpSdaUQjq7q",
    "outputId": "3f988767-a90f-4373-f96c-414c6d4b8db2"
   },
   "outputs": [
    {
     "data": {
      "text/plain": [
       "24      15\n",
       "33      14\n",
       "50      14\n",
       "63      16\n",
       "74     200\n",
       "75       0\n",
       "80      92\n",
       "86      11\n",
       "91      11\n",
       "93      13\n",
       "104      0\n",
       "112    656\n",
       "Name: PuntajeIngre, dtype: int64"
      ]
     },
     "execution_count": 35,
     "metadata": {},
     "output_type": "execute_result"
    }
   ],
   "source": [
    "#aca se ve un error que porbablemente se dio por un error de lectura de los ceros \n",
    "dt[dt['PuntajeIngre']<1000].PuntajeIngre"
   ]
  },
  {
   "cell_type": "code",
   "execution_count": 36,
   "metadata": {
    "colab": {
     "base_uri": "https://localhost:8080/",
     "height": 0
    },
    "colab_type": "code",
    "id": "kPPDwsRNjq7s",
    "outputId": "010756ec-27f9-456c-cfaa-b33568cdc055"
   },
   "outputs": [
    {
     "data": {
      "text/plain": [
       "74     200\n",
       "75       0\n",
       "104      0\n",
       "112    656\n",
       "Name: PuntajeIngre, dtype: int64"
      ]
     },
     "execution_count": 36,
     "metadata": {},
     "output_type": "execute_result"
    }
   ],
   "source": [
    "#corregiremos llenando los valores con error con la media de los puntajes menores de 100\n",
    "dt['PuntajeIngre']=dt['PuntajeIngre'].apply(lambda x : int(x*100) if x>9 and x<99 else int(x))\n",
    "media=dt['PuntajeIngre'].mean()\n",
    "dt[dt['PuntajeIngre']<1000].PuntajeIngre"
   ]
  },
  {
   "cell_type": "code",
   "execution_count": 37,
   "metadata": {
    "colab": {
     "base_uri": "https://localhost:8080/",
     "height": 0
    },
    "colab_type": "code",
    "id": "aHEm2Vdhjq7u",
    "outputId": "54c7dfce-11aa-4664-9643-5f4a46e9149c"
   },
   "outputs": [
    {
     "data": {
      "text/plain": [
       "Series([], Name: PuntajeIngre, dtype: float64)"
      ]
     },
     "execution_count": 37,
     "metadata": {},
     "output_type": "execute_result"
    }
   ],
   "source": [
    "dt.loc[dt[dt['PuntajeIngre']<1000].index,'PuntajeIngre']=media\n",
    "\n",
    "#dt[dt['PuntajeIngre']<1000].PuntajeIngre=media\n",
    "dt[dt['PuntajeIngre']<1000].PuntajeIngre"
   ]
  },
  {
   "cell_type": "code",
   "execution_count": 38,
   "metadata": {
    "colab": {
     "base_uri": "https://localhost:8080/",
     "height": 0
    },
    "colab_type": "code",
    "id": "K8VxU-nAjq7w",
    "outputId": "85882ddd-2fb7-4cd4-e036-a1d596b46c23"
   },
   "outputs": [
    {
     "data": {
      "text/plain": [
       "count     125.000000\n",
       "mean     1475.219584\n",
       "std       712.537458\n",
       "min      1050.000000\n",
       "25%      1340.000000\n",
       "50%      1430.000000\n",
       "75%      1500.000000\n",
       "max      9200.000000\n",
       "Name: PuntajeIngre, dtype: float64"
      ]
     },
     "execution_count": 38,
     "metadata": {},
     "output_type": "execute_result"
    }
   ],
   "source": [
    "#Con la Nueva Medida sacamos la estadisctica\n",
    "dt['PuntajeIngre'].describe()"
   ]
  },
  {
   "cell_type": "markdown",
   "metadata": {
    "colab_type": "text",
    "id": "VqZ0byCCjq7y"
   },
   "source": [
    "## Diagrama de caja y bigotes"
   ]
  },
  {
   "cell_type": "code",
   "execution_count": 39,
   "metadata": {
    "colab": {},
    "colab_type": "code",
    "id": "gCSq7XN_jq7z"
   },
   "outputs": [],
   "source": [
    "import matplotlib.pyplot as plt"
   ]
  },
  {
   "cell_type": "code",
   "execution_count": 40,
   "metadata": {
    "colab": {
     "base_uri": "https://localhost:8080/",
     "height": 0
    },
    "colab_type": "code",
    "id": "myRl93kIjq71",
    "outputId": "da381615-0db3-4db3-d0b9-a6a042a654d8"
   },
   "outputs": [
    {
     "data": {
      "text/plain": [
       "{'whiskers': [<matplotlib.lines.Line2D at 0x7aed70e520>,\n",
       "  <matplotlib.lines.Line2D at 0x7aed70e880>],\n",
       " 'caps': [<matplotlib.lines.Line2D at 0x7aed70ebe0>,\n",
       "  <matplotlib.lines.Line2D at 0x7aed70ef40>],\n",
       " 'boxes': [<matplotlib.lines.Line2D at 0x7aed70e1c0>],\n",
       " 'medians': [<matplotlib.lines.Line2D at 0x7aed71e2e0>],\n",
       " 'fliers': [<matplotlib.lines.Line2D at 0x7aed71e640>],\n",
       " 'means': []}"
      ]
     },
     "execution_count": 40,
     "metadata": {},
     "output_type": "execute_result"
    },
    {
     "data": {
      "image/png": "[encoded data removed]",
      "text/plain": [
       "<Figure size 432x288 with 1 Axes>"
      ]
     },
     "metadata": {
      "needs_background": "light"
     },
     "output_type": "display_data"
    }
   ],
   "source": [
    "fig1,ax1=plt.subplots()\n",
    "ax1.set_title('caja')\n",
    "ax1.boxplot(dt['PuntajeIngre'])"
   ]
  },
  {
   "cell_type": "code",
   "execution_count": 43,
   "metadata": {
    "colab": {
     "base_uri": "https://localhost:8080/",
     "height": 0
    },
    "colab_type": "code",
    "id": "lLHwMz8-jq73",
    "outputId": "af4f0150-8994-4de9-f2ff-0d7a178aa843"
   },
   "outputs": [
    {
     "data": {
      "text/plain": [
       "{'whiskers': [<matplotlib.lines.Line2D at 0x7aed841f70>,\n",
       "  <matplotlib.lines.Line2D at 0x7aed84e310>],\n",
       " 'caps': [<matplotlib.lines.Line2D at 0x7aed84e670>,\n",
       "  <matplotlib.lines.Line2D at 0x7aed84e9d0>],\n",
       " 'boxes': [<matplotlib.lines.Line2D at 0x7aed841be0>],\n",
       " 'medians': [<matplotlib.lines.Line2D at 0x7aed84ecd0>],\n",
       " 'fliers': [<matplotlib.lines.Line2D at 0x7aed85b070>],\n",
       " 'means': []}"
      ]
     },
     "execution_count": 43,
     "metadata": {},
     "output_type": "execute_result"
    },
    {
     "data": {
      "image/png": "[encoded data removed]",
      "text/plain": [
       "<Figure size 432x288 with 1 Axes>"
      ]
     },
     "metadata": {
      "needs_background": "light"
     },
     "output_type": "display_data"
    }
   ],
   "source": [
    "#quitamos el outlier\n",
    "dt.drop(dt[dt['PuntajeIngre']>2000].index, inplace=True, axis=0)\n",
    "\n",
    "#volvemos a graficar el diagrama de caja y bigote\n",
    "fig1,ax1=plt.subplots()\n",
    "ax1.set_title('caja')\n",
    "ax1.boxplot(dt['PuntajeIngre'])"
   ]
  },
  {
   "cell_type": "code",
   "execution_count": 44,
   "metadata": {
    "colab": {
     "base_uri": "https://localhost:8080/",
     "height": 0
    },
    "colab_type": "code",
    "id": "OiSykv5Ljq74",
    "outputId": "06b025ce-5ba0-42d7-f46f-ccc1c0ecd304",
    "scrolled": false
   },
   "outputs": [
    {
     "data": {
      "text/plain": [
       "48    1055.0\n",
       "73    1057.0\n",
       "88    1050.0\n",
       "Name: PuntajeIngre, dtype: float64"
      ]
     },
     "execution_count": 44,
     "metadata": {},
     "output_type": "execute_result"
    }
   ],
   "source": [
    "#Filtro de quienes son los que tiene bajo puntaje\n",
    "dt[dt['PuntajeIngre']<1100].PuntajeIngre"
   ]
  },
  {
   "cell_type": "code",
   "execution_count": 45,
   "metadata": {
    "colab": {
     "base_uri": "https://localhost:8080/",
     "height": 0
    },
    "colab_type": "code",
    "id": "F10fB53tjq77",
    "outputId": "50bd3522-b4d2-4001-fd36-82b3e85a3549"
   },
   "outputs": [
    {
     "data": {
      "text/plain": [
       "1996      31\n",
       "1995      20\n",
       "1997      18\n",
       "1998      11\n",
       "1994      11\n",
       "1999       7\n",
       "1991       5\n",
       "1993       4\n",
       "1992       3\n",
       "1989       3\n",
       "1987       2\n",
       "1984       2\n",
       "2000       2\n",
       "1988       1\n",
       "1986       1\n",
       "1990       1\n",
       "1981       1\n",
       "110598     1\n",
       "Name: AnioNac, dtype: int64"
      ]
     },
     "execution_count": 45,
     "metadata": {},
     "output_type": "execute_result"
    }
   ],
   "source": [
    "dt.AnioNac.value_counts()"
   ]
  },
  {
   "cell_type": "code",
   "execution_count": 46,
   "metadata": {
    "colab": {
     "base_uri": "https://localhost:8080/",
     "height": 0
    },
    "colab_type": "code",
    "id": "925eGOcQjq7-",
    "outputId": "32e2127f-b323-4050-be35-9070d90546b2"
   },
   "outputs": [
    {
     "data": {
      "text/plain": [
       "1996    31\n",
       "1995    20\n",
       "1997    18\n",
       "1998    12\n",
       "1994    11\n",
       "1999     7\n",
       "1991     5\n",
       "1993     4\n",
       "1992     3\n",
       "1989     3\n",
       "1987     2\n",
       "1984     2\n",
       "2000     2\n",
       "1988     1\n",
       "1986     1\n",
       "1990     1\n",
       "1981     1\n",
       "Name: AnioNac, dtype: int64"
      ]
     },
     "execution_count": 46,
     "metadata": {},
     "output_type": "execute_result"
    }
   ],
   "source": [
    "#n=dt[dt['AnioNac']==110598].index\n",
    "\n",
    "#para los que en el formulario pusieron fecha en formato DD/MM/AA pasamos a formato solo año  \n",
    "dt.loc[dt['AnioNac']==110598,['AnioNac']]=1998\n",
    "\n",
    "dt.AnioNac.value_counts()"
   ]
  },
  {
   "cell_type": "markdown",
   "metadata": {
    "colab_type": "text",
    "id": "xUSvWo0Sjq8A"
   },
   "source": [
    "## FUNCION CUT Y PIVOT\n"
   ]
  },
  {
   "cell_type": "code",
   "execution_count": 47,
   "metadata": {
    "colab": {
     "base_uri": "https://localhost:8080/",
     "height": 0
    },
    "colab_type": "code",
    "id": "Io2u2i7pjq8A",
    "outputId": "a6546299-dcb3-427e-e5cd-629c3f74a7c7"
   },
   "outputs": [
    {
     "data": {
      "text/plain": [
       "24    31\n",
       "25    20\n",
       "23    18\n",
       "22    12\n",
       "26    11\n",
       "21     7\n",
       "29     5\n",
       "27     4\n",
       "28     3\n",
       "31     3\n",
       "20     2\n",
       "36     2\n",
       "33     2\n",
       "30     1\n",
       "32     1\n",
       "34     1\n",
       "39     1\n",
       "Name: Edad, dtype: int64"
      ]
     },
     "execution_count": 47,
     "metadata": {},
     "output_type": "execute_result"
    }
   ],
   "source": [
    "dt['Edad']=2020-dt['AnioNac']\n",
    "dt.Edad.value_counts()"
   ]
  },
  {
   "cell_type": "code",
   "execution_count": 48,
   "metadata": {
    "colab": {
     "base_uri": "https://localhost:8080/",
     "height": 0
    },
    "colab_type": "code",
    "id": "L_s9lpPQjq8C",
    "outputId": "551fbe84-e08d-47fb-d6cd-b487405eb1e0"
   },
   "outputs": [
    {
     "data": {
      "text/plain": [
       "0      (18.0, 24.0]\n",
       "1      (24.0, 30.0]\n",
       "2      (24.0, 30.0]\n",
       "3      (18.0, 24.0]\n",
       "4      (18.0, 24.0]\n",
       "           ...     \n",
       "120    (18.0, 24.0]\n",
       "121    (24.0, 30.0]\n",
       "122    (24.0, 30.0]\n",
       "123    (18.0, 24.0]\n",
       "124    (18.0, 24.0]\n",
       "Name: Edad, Length: 124, dtype: category\n",
       "Categories (4, interval[float64]): [(-0.1, 18.0] < (18.0, 24.0] < (24.0, 30.0] < (30.0, 50.0]]"
      ]
     },
     "execution_count": 48,
     "metadata": {},
     "output_type": "execute_result"
    }
   ],
   "source": [
    "eda=pd.cut(dt['Edad'],bins=[0,18,24,30,50],include_lowest=True, precision=1)\n",
    "eda"
   ]
  },
  {
   "cell_type": "code",
   "execution_count": 49,
   "metadata": {
    "colab": {
     "base_uri": "https://localhost:8080/",
     "height": 0
    },
    "colab_type": "code",
    "id": "lO2erG4Pjq8D",
    "outputId": "7049149f-4824-4d4f-bad8-d88efeaad4d7"
   },
   "outputs": [
    {
     "data": {
      "text/html": [
       "<div>\n",
       "<style scoped>\n",
       "    .dataframe tbody tr th:only-of-type {\n",
       "        vertical-align: middle;\n",
       "    }\n",
       "\n",
       "    .dataframe tbody tr th {\n",
       "        vertical-align: top;\n",
       "    }\n",
       "\n",
       "    .dataframe thead th {\n",
       "        text-align: right;\n",
       "    }\n",
       "</style>\n",
       "<table border=\"1\" class=\"dataframe\">\n",
       "  <thead>\n",
       "    <tr style=\"text-align: right;\">\n",
       "      <th></th>\n",
       "      <th>TipoCole</th>\n",
       "      <th>NACIONAL</th>\n",
       "      <th>PARROQUIAL</th>\n",
       "      <th>PARTICULAR</th>\n",
       "    </tr>\n",
       "    <tr>\n",
       "      <th>Sexo</th>\n",
       "      <th>Edad</th>\n",
       "      <th></th>\n",
       "      <th></th>\n",
       "      <th></th>\n",
       "    </tr>\n",
       "  </thead>\n",
       "  <tbody>\n",
       "    <tr>\n",
       "      <th rowspan=\"3\" valign=\"top\">Hombre</th>\n",
       "      <th>(18.0, 24.0]</th>\n",
       "      <td>1398.153846</td>\n",
       "      <td>1467.158857</td>\n",
       "      <td>1359.177829</td>\n",
       "    </tr>\n",
       "    <tr>\n",
       "      <th>(24.0, 30.0]</th>\n",
       "      <td>1454.846154</td>\n",
       "      <td>1498.666667</td>\n",
       "      <td>1434.900000</td>\n",
       "    </tr>\n",
       "    <tr>\n",
       "      <th>(30.0, 50.0]</th>\n",
       "      <td>1528.750000</td>\n",
       "      <td>1100.000000</td>\n",
       "      <td>1518.056000</td>\n",
       "    </tr>\n",
       "    <tr>\n",
       "      <th rowspan=\"3\" valign=\"top\">Mujer</th>\n",
       "      <th>(18.0, 24.0]</th>\n",
       "      <td>1340.000000</td>\n",
       "      <td>1318.333333</td>\n",
       "      <td>1406.285714</td>\n",
       "    </tr>\n",
       "    <tr>\n",
       "      <th>(24.0, 30.0]</th>\n",
       "      <td>1414.666667</td>\n",
       "      <td>1300.000000</td>\n",
       "      <td>1300.000000</td>\n",
       "    </tr>\n",
       "    <tr>\n",
       "      <th>(30.0, 50.0]</th>\n",
       "      <td>1416.666667</td>\n",
       "      <td>NaN</td>\n",
       "      <td>NaN</td>\n",
       "    </tr>\n",
       "    <tr>\n",
       "      <th>OTRO</th>\n",
       "      <th>(18.0, 24.0]</th>\n",
       "      <td>NaN</td>\n",
       "      <td>NaN</td>\n",
       "      <td>1675.000000</td>\n",
       "    </tr>\n",
       "  </tbody>\n",
       "</table>\n",
       "</div>"
      ],
      "text/plain": [
       "TipoCole                NACIONAL   PARROQUIAL   PARTICULAR\n",
       "Sexo   Edad                                               \n",
       "Hombre (18.0, 24.0]  1398.153846  1467.158857  1359.177829\n",
       "       (24.0, 30.0]  1454.846154  1498.666667  1434.900000\n",
       "       (30.0, 50.0]  1528.750000  1100.000000  1518.056000\n",
       "Mujer  (18.0, 24.0]  1340.000000  1318.333333  1406.285714\n",
       "       (24.0, 30.0]  1414.666667  1300.000000  1300.000000\n",
       "       (30.0, 50.0]  1416.666667          NaN          NaN\n",
       "OTRO   (18.0, 24.0]          NaN          NaN  1675.000000"
      ]
     },
     "execution_count": 49,
     "metadata": {},
     "output_type": "execute_result"
    }
   ],
   "source": [
    "dt.pivot_table('PuntajeIngre', index=['Sexo',eda],columns='TipoCole')"
   ]
  },
  {
   "cell_type": "markdown",
   "metadata": {
    "colab_type": "text",
    "id": "-DMBmqn5jq8E"
   },
   "source": [
    "## Histogramas"
   ]
  },
  {
   "cell_type": "code",
   "execution_count": 50,
   "metadata": {
    "colab": {
     "base_uri": "https://localhost:8080/",
     "height": 0
    },
    "colab_type": "code",
    "id": "BmlQL2G0jq8F",
    "outputId": "14fc6e92-ee30-428b-ae29-741bb9ac5680"
   },
   "outputs": [
    {
     "data": {
      "text/plain": [
       "array([ 7,  5,  7, 13, 28, 29, 15, 16,  2,  2], dtype=int64)"
      ]
     },
     "execution_count": 50,
     "metadata": {},
     "output_type": "execute_result"
    }
   ],
   "source": [
    "hist,bind_edges=np.histogram(dt['PuntajeIngre'])\n",
    "hist"
   ]
  },
  {
   "cell_type": "code",
   "execution_count": 51,
   "metadata": {
    "colab": {
     "base_uri": "https://localhost:8080/",
     "height": 0
    },
    "colab_type": "code",
    "id": "nr09zaVDjq8I",
    "outputId": "982fdd27-50c8-4698-edf6-3ef9b30dd6b5"
   },
   "outputs": [
    {
     "data": {
      "text/plain": [
       "array([1050., 1125., 1200., 1275., 1350., 1425., 1500., 1575., 1650.,\n",
       "       1725., 1800.])"
      ]
     },
     "execution_count": 51,
     "metadata": {},
     "output_type": "execute_result"
    }
   ],
   "source": [
    "bind_edges"
   ]
  },
  {
   "cell_type": "markdown",
   "metadata": {
    "colab_type": "text",
    "id": "m-9eGbwdjq8K"
   },
   "source": [
    "## visualizacion"
   ]
  },
  {
   "cell_type": "code",
   "execution_count": 52,
   "metadata": {
    "colab": {
     "base_uri": "https://localhost:8080/",
     "height": 0
    },
    "colab_type": "code",
    "id": "BNqqO3L3jq8L",
    "outputId": "38a4014c-4dc6-436c-c9b8-c3e0153729c9"
   },
   "outputs": [
    {
     "data": {
      "image/png": "[encoded data removed]",
      "text/plain": [
       "<Figure size 432x288 with 1 Axes>"
      ]
     },
     "metadata": {
      "needs_background": "light"
     },
     "output_type": "display_data"
    }
   ],
   "source": [
    "n,bins,patches=plt.hist(x=dt['PuntajeIngre'], bins='auto')"
   ]
  },
  {
   "cell_type": "code",
   "execution_count": 53,
   "metadata": {
    "colab": {
     "base_uri": "https://localhost:8080/",
     "height": 0
    },
    "colab_type": "code",
    "id": "yZ7NGvKGjq8M",
    "outputId": "2f03cfa6-130f-4218-fccf-faa9f7e662d6"
   },
   "outputs": [
    {
     "data": {
      "image/png": "[encoded data removed]",
      "text/plain": [
       "<Figure size 432x288 with 1 Axes>"
      ]
     },
     "metadata": {
      "needs_background": "light"
     },
     "output_type": "display_data"
    }
   ],
   "source": [
    "n,bins,patches=plt.hist(x=dt['PuntajeIngre'], bins='auto', alpha=0.50, rwidth=0.90)"
   ]
  },
  {
   "cell_type": "code",
   "execution_count": 54,
   "metadata": {
    "colab": {
     "base_uri": "https://localhost:8080/",
     "height": 0
    },
    "colab_type": "code",
    "id": "1a7ibbHQjq8P",
    "outputId": "f1aac330-d4dc-446a-8422-4badf2701c09"
   },
   "outputs": [
    {
     "data": {
      "image/png": "[encoded data removed]",
      "text/plain": [
       "<Figure size 432x288 with 1 Axes>"
      ]
     },
     "metadata": {
      "needs_background": "light"
     },
     "output_type": "display_data"
    }
   ],
   "source": [
    "import matplotlib\n",
    "dt.hist(column='Edad',  color='blue',bins=30)\n",
    "matplotlib.pyplot.show()"
   ]
  },
  {
   "cell_type": "code",
   "execution_count": 55,
   "metadata": {
    "colab": {
     "base_uri": "https://localhost:8080/",
     "height": 0
    },
    "colab_type": "code",
    "id": "_yMKYnAWjq8Q",
    "outputId": "af3969ed-05a9-4348-d17a-53edc1633ea1"
   },
   "outputs": [
    {
     "data": {
      "text/plain": [
       "{'whiskers': [<matplotlib.lines.Line2D at 0x7aeceac640>,\n",
       "  <matplotlib.lines.Line2D at 0x7aeceac9a0>],\n",
       " 'caps': [<matplotlib.lines.Line2D at 0x7aeceacd00>,\n",
       "  <matplotlib.lines.Line2D at 0x7aeceb60a0>],\n",
       " 'boxes': [<matplotlib.lines.Line2D at 0x7aeceac2b0>],\n",
       " 'medians': [<matplotlib.lines.Line2D at 0x7aeceb6400>],\n",
       " 'fliers': [<matplotlib.lines.Line2D at 0x7aeceb6700>],\n",
       " 'means': []}"
      ]
     },
     "execution_count": 55,
     "metadata": {},
     "output_type": "execute_result"
    },
    {
     "data": {
      "image/png": "[encoded data removed]",
      "text/plain": [
       "<Figure size 432x288 with 1 Axes>"
      ]
     },
     "metadata": {
      "needs_background": "light"
     },
     "output_type": "display_data"
    }
   ],
   "source": [
    "fig2,ax2=plt.subplots()\n",
    "ax2.set_title('caja')\n",
    "ax2.boxplot(dt['Edad'])"
   ]
  },
  {
   "cell_type": "code",
   "execution_count": 56,
   "metadata": {
    "colab": {
     "base_uri": "https://localhost:8080/",
     "height": 0
    },
    "colab_type": "code",
    "id": "WI-1PG-Cjq8T",
    "outputId": "435fb951-9c06-4d7f-89ad-b6d7ad97d05e"
   },
   "outputs": [
    {
     "data": {
      "image/png": "[encoded data removed]",
      "text/plain": [
       "<Figure size 432x288 with 1 Axes>"
      ]
     },
     "metadata": {
      "needs_background": "light"
     },
     "output_type": "display_data"
    }
   ],
   "source": [
    "matplotlib.pyplot.clf()\n",
    "dt['Edad'].plot(kind='density')\n",
    "matplotlib.pyplot.show()"
   ]
  },
  {
   "cell_type": "code",
   "execution_count": 57,
   "metadata": {
    "colab": {
     "base_uri": "https://localhost:8080/",
     "height": 0
    },
    "colab_type": "code",
    "id": "a2kpjYndjq8U",
    "outputId": "e6852615-73b0-45fa-ebe4-c33e30557eeb"
   },
   "outputs": [
    {
     "data": {
      "text/plain": [
       "<Figure size 432x288 with 0 Axes>"
      ]
     },
     "metadata": {},
     "output_type": "display_data"
    },
    {
     "data": {
      "image/png": "[encoded data removed]",
      "text/plain": [
       "<Figure size 432x288 with 1 Axes>"
      ]
     },
     "metadata": {
      "needs_background": "light"
     },
     "output_type": "display_data"
    }
   ],
   "source": [
    "matplotlib.pyplot.clf()\n",
    "dt.plot(kind='scatter', x='EdadIngreso', y='PuntajeIngre')\n",
    "matplotlib.pyplot.show()"
   ]
  },
  {
   "cell_type": "code",
   "execution_count": 58,
   "metadata": {
    "colab": {
     "base_uri": "https://localhost:8080/",
     "height": 0
    },
    "colab_type": "code",
    "id": "RWsh4Sk5jq8W",
    "outputId": "34db33bf-c0e2-4dbc-dd19-6cdec9797f87"
   },
   "outputs": [
    {
     "data": {
      "text/plain": [
       "EXAMEN ORDINARIO           90\n",
       "CEPRE                      25\n",
       "PRIMEROS PUESTOS            4\n",
       "OTROS                       3\n",
       "VICTIMAS DEL TERRORISMO     1\n",
       "DEPORTISTA CALIFICADO       1\n",
       "Name: TipoIngres, dtype: int64"
      ]
     },
     "execution_count": 58,
     "metadata": {},
     "output_type": "execute_result"
    }
   ],
   "source": [
    "#Borrar columnas que muy probablemente no usare\n",
    "dt.TipoIngres.value_counts()"
   ]
  },
  {
   "cell_type": "code",
   "execution_count": 59,
   "metadata": {
    "colab": {
     "base_uri": "https://localhost:8080/",
     "height": 0
    },
    "colab_type": "code",
    "id": "Dvleio6Bjq8X",
    "outputId": "0412ea80-19c6-450e-92b1-bc57ed4105e7"
   },
   "outputs": [
    {
     "data": {
      "text/plain": [
       "Index(['Codigo', 'AnioNac', 'Sexo', 'Resid', 'TipoCole', 'MesIngres',\n",
       "       'TipoIngres', 'PuntajeIngre', 'CurDes1Ano', 'PrimRep', 'SegRep',\n",
       "       'TercRep', 'Mas3Rep', 'EduMadre', 'EduPadre', 'OcuPadre', 'OcuMadre',\n",
       "       'ClaseSoc', 'TempViajeUni', 'NumHermano', 'HermanoEstSup',\n",
       "       'EstadCivilInicio', 'PrepaAcademia', 'TempPrepAcadem', 'EdadIngreso',\n",
       "       'AporteEcono', 'TrabajoUniversi1Anio', 'SatisfCalidad',\n",
       "       'VocacionXpresion', 'CiudNac', 'PadreSep', 'ProbFamiliFreq', 'Edad'],\n",
       "      dtype='object')"
      ]
     },
     "execution_count": 59,
     "metadata": {},
     "output_type": "execute_result"
    }
   ],
   "source": [
    "dt.columns"
   ]
  },
  {
   "cell_type": "code",
   "execution_count": 60,
   "metadata": {
    "colab": {
     "base_uri": "https://localhost:8080/",
     "height": 0
    },
    "colab_type": "code",
    "id": "_3c82S52jq8a",
    "outputId": "1186866d-c9cf-4cdd-b59b-ac5263f1f590"
   },
   "outputs": [
    {
     "data": {
      "text/plain": [
       "SOLTERO    122\n",
       "CASADO       1\n",
       "VIUDO        1\n",
       "Name: EstadCivilInicio, dtype: int64"
      ]
     },
     "execution_count": 60,
     "metadata": {},
     "output_type": "execute_result"
    }
   ],
   "source": [
    "dt.EstadCivilInicio.value_counts()"
   ]
  },
  {
   "cell_type": "code",
   "execution_count": 61,
   "metadata": {
    "colab": {
     "base_uri": "https://localhost:8080/",
     "height": 0
    },
    "colab_type": "code",
    "id": "pfv3Iouqjq8c",
    "outputId": "3882b93d-0225-44a8-8973-f0246955f6c9"
   },
   "outputs": [
    {
     "data": {
      "text/plain": [
       "DOS HORAS            35\n",
       "UN HORA              32\n",
       "HORA Y MEDIA         27\n",
       "MENOS DE UNA HORA    15\n",
       "MAS DE DOS HORAS     15\n",
       "Name: TempViajeUni, dtype: int64"
      ]
     },
     "execution_count": 61,
     "metadata": {},
     "output_type": "execute_result"
    }
   ],
   "source": [
    "dt.TempViajeUni.value_counts()"
   ]
  },
  {
   "cell_type": "code",
   "execution_count": 62,
   "metadata": {
    "colab": {
     "base_uri": "https://localhost:8080/",
     "height": 0
    },
    "colab_type": "code",
    "id": "v8-hpFFbjq8d",
    "outputId": "33ab08bd-b437-4c58-fa63-0bd1f47db44d"
   },
   "outputs": [
    {
     "data": {
      "text/plain": [
       "Sí    114\n",
       "No     10\n",
       "Name: PrepaAcademia, dtype: int64"
      ]
     },
     "execution_count": 62,
     "metadata": {},
     "output_type": "execute_result"
    }
   ],
   "source": [
    "dt.PrepaAcademia.value_counts()"
   ]
  },
  {
   "cell_type": "code",
   "execution_count": 63,
   "metadata": {
    "colab": {
     "base_uri": "https://localhost:8080/",
     "height": 0
    },
    "colab_type": "code",
    "id": "1Yh821aijq8e",
    "outputId": "47ab1f6b-89ce-45be-b44f-d12dae4c0271"
   },
   "outputs": [
    {
     "data": {
      "text/plain": [
       "UN AÑO                       33\n",
       "UN AÑO Y MEDIO               26\n",
       "DOS AÑOS                     25\n",
       "MENOS DE UN AÑO              18\n",
       "MAS DE DOS AÑOS              13\n",
       "NO SE PREPARO EN ACADEMIA     9\n",
       "Name: TempPrepAcadem, dtype: int64"
      ]
     },
     "execution_count": 63,
     "metadata": {},
     "output_type": "execute_result"
    }
   ],
   "source": [
    "dt.TempPrepAcadem.value_counts()"
   ]
  },
  {
   "cell_type": "code",
   "execution_count": 64,
   "metadata": {
    "colab": {
     "base_uri": "https://localhost:8080/",
     "height": 0
    },
    "colab_type": "code",
    "id": "Emk0EH6Gjq8g",
    "outputId": "caa53c3d-1ff5-4f32-cf6b-13a041bb82cd"
   },
   "outputs": [
    {
     "data": {
      "text/plain": [
       "Lima        101\n",
       "Callao        6\n",
       "Ancash        4\n",
       "Junín         4\n",
       "Cusco         2\n",
       "Ayacucho      2\n",
       "Apurimac      1\n",
       "Puno          1\n",
       "Piura         1\n",
       "Arequipa      1\n",
       "Huanuco       1\n",
       "Name: CiudNac, dtype: int64"
      ]
     },
     "execution_count": 64,
     "metadata": {},
     "output_type": "execute_result"
    }
   ],
   "source": [
    "dt.CiudNac.value_counts()"
   ]
  },
  {
   "cell_type": "code",
   "execution_count": 65,
   "metadata": {
    "colab": {
     "base_uri": "https://localhost:8080/",
     "height": 0
    },
    "colab_type": "code",
    "id": "DeD4PGIOjq8h",
    "outputId": "73c01f9d-79e1-4567-d8e0-ff0a7ab6fd71"
   },
   "outputs": [
    {
     "data": {
      "text/plain": [
       "Index(['Codigo', 'AnioNac', 'Sexo', 'Resid', 'TipoCole', 'TipoIngres',\n",
       "       'PuntajeIngre', 'PrimRep', 'SegRep', 'TercRep', 'Mas3Rep', 'EduMadre',\n",
       "       'EduPadre', 'OcuPadre', 'OcuMadre', 'ClaseSoc', 'TempViajeUni',\n",
       "       'NumHermano', 'HermanoEstSup', 'PrepaAcademia', 'TempPrepAcadem',\n",
       "       'EdadIngreso', 'AporteEcono', 'TrabajoUniversi1Anio', 'SatisfCalidad',\n",
       "       'VocacionXpresion', 'CiudNac', 'PadreSep', 'ProbFamiliFreq', 'Edad'],\n",
       "      dtype='object')"
      ]
     },
     "execution_count": 65,
     "metadata": {},
     "output_type": "execute_result"
    }
   ],
   "source": [
    "dt.drop(['CurDes1Ano','MesIngres','EstadCivilInicio'], axis=1, inplace=True)\n",
    "dt.columns"
   ]
  },
  {
   "cell_type": "code",
   "execution_count": 66,
   "metadata": {
    "colab": {
     "base_uri": "https://localhost:8080/",
     "height": 0
    },
    "colab_type": "code",
    "id": "6n18WoLqjq8j",
    "outputId": "36ee0d9d-e87d-4338-ac3d-462fb0e8c76f"
   },
   "outputs": [
    {
     "data": {
      "text/plain": [
       "0      1\n",
       "1      1\n",
       "2      1\n",
       "3      0\n",
       "4      0\n",
       "      ..\n",
       "120    1\n",
       "121    0\n",
       "122    0\n",
       "123    0\n",
       "124    1\n",
       "Name: HermanoEstSup, Length: 124, dtype: int64"
      ]
     },
     "execution_count": 66,
     "metadata": {},
     "output_type": "execute_result"
    }
   ],
   "source": [
    "#REEMPLAZAR VALORES 'SI NO ' POR 0 , 1\n",
    "dt.HermanoEstSup.replace(to_replace='Sí',value=1,inplace=True)\n",
    "dt.HermanoEstSup.replace(to_replace='No',value=0,inplace=True)\n",
    "dt.HermanoEstSup"
   ]
  },
  {
   "cell_type": "code",
   "execution_count": 67,
   "metadata": {
    "colab": {
     "base_uri": "https://localhost:8080/",
     "height": 0
    },
    "colab_type": "code",
    "id": "2JpQd6Vwjq8k",
    "outputId": "47bd91a9-9415-4178-81b9-a1d81faefe99"
   },
   "outputs": [
    {
     "data": {
      "text/plain": [
       "0      0\n",
       "1      0\n",
       "2      0\n",
       "3      0\n",
       "4      0\n",
       "      ..\n",
       "120    0\n",
       "121    0\n",
       "122    1\n",
       "123    0\n",
       "124    0\n",
       "Name: AporteEcono, Length: 124, dtype: int64"
      ]
     },
     "execution_count": 67,
     "metadata": {},
     "output_type": "execute_result"
    }
   ],
   "source": [
    "dt.AporteEcono.replace(to_replace='NO',value=0,inplace=True)\n",
    "dt.AporteEcono.replace(to_replace='SI',value=1,inplace=True)\n",
    "dt.AporteEcono"
   ]
  },
  {
   "cell_type": "code",
   "execution_count": 68,
   "metadata": {
    "colab": {
     "base_uri": "https://localhost:8080/",
     "height": 0
    },
    "colab_type": "code",
    "id": "NnneCzOxjq8m",
    "outputId": "d8942b76-b67b-45e6-ee9e-c0da2dadd78b"
   },
   "outputs": [
    {
     "data": {
      "text/plain": [
       "0      1\n",
       "1      0\n",
       "2      1\n",
       "3      0\n",
       "4      0\n",
       "      ..\n",
       "120    0\n",
       "121    0\n",
       "122    0\n",
       "123    1\n",
       "124    0\n",
       "Name: SatisfCalidad, Length: 124, dtype: int64"
      ]
     },
     "execution_count": 68,
     "metadata": {},
     "output_type": "execute_result"
    }
   ],
   "source": [
    "dt.SatisfCalidad.replace(to_replace='No',value=0,inplace=True)\n",
    "dt.SatisfCalidad.replace(to_replace='Sí',value=1,inplace=True)\n",
    "dt.SatisfCalidad"
   ]
  },
  {
   "cell_type": "code",
   "execution_count": 69,
   "metadata": {
    "colab": {
     "base_uri": "https://localhost:8080/",
     "height": 0
    },
    "colab_type": "code",
    "id": "5vfYLrQwjq8p",
    "outputId": "f8566c79-7c35-4964-dffe-46386a8f6ead"
   },
   "outputs": [
    {
     "data": {
      "text/html": [
       "<div>\n",
       "<style scoped>\n",
       "    .dataframe tbody tr th:only-of-type {\n",
       "        vertical-align: middle;\n",
       "    }\n",
       "\n",
       "    .dataframe tbody tr th {\n",
       "        vertical-align: top;\n",
       "    }\n",
       "\n",
       "    .dataframe thead th {\n",
       "        text-align: right;\n",
       "    }\n",
       "</style>\n",
       "<table border=\"1\" class=\"dataframe\">\n",
       "  <thead>\n",
       "    <tr style=\"text-align: right;\">\n",
       "      <th></th>\n",
       "      <th>tercerRepEstado</th>\n",
       "      <th>TercRep</th>\n",
       "    </tr>\n",
       "  </thead>\n",
       "  <tbody>\n",
       "    <tr>\n",
       "      <th>0</th>\n",
       "      <td>0</td>\n",
       "      <td>0</td>\n",
       "    </tr>\n",
       "    <tr>\n",
       "      <th>1</th>\n",
       "      <td>0</td>\n",
       "      <td>0</td>\n",
       "    </tr>\n",
       "    <tr>\n",
       "      <th>2</th>\n",
       "      <td>0</td>\n",
       "      <td>0</td>\n",
       "    </tr>\n",
       "    <tr>\n",
       "      <th>3</th>\n",
       "      <td>0</td>\n",
       "      <td>0</td>\n",
       "    </tr>\n",
       "    <tr>\n",
       "      <th>4</th>\n",
       "      <td>0</td>\n",
       "      <td>0</td>\n",
       "    </tr>\n",
       "    <tr>\n",
       "      <th>...</th>\n",
       "      <td>...</td>\n",
       "      <td>...</td>\n",
       "    </tr>\n",
       "    <tr>\n",
       "      <th>120</th>\n",
       "      <td>1</td>\n",
       "      <td>1</td>\n",
       "    </tr>\n",
       "    <tr>\n",
       "      <th>121</th>\n",
       "      <td>0</td>\n",
       "      <td>0</td>\n",
       "    </tr>\n",
       "    <tr>\n",
       "      <th>122</th>\n",
       "      <td>1</td>\n",
       "      <td>4</td>\n",
       "    </tr>\n",
       "    <tr>\n",
       "      <th>123</th>\n",
       "      <td>0</td>\n",
       "      <td>0</td>\n",
       "    </tr>\n",
       "    <tr>\n",
       "      <th>124</th>\n",
       "      <td>0</td>\n",
       "      <td>0</td>\n",
       "    </tr>\n",
       "  </tbody>\n",
       "</table>\n",
       "<p>124 rows × 2 columns</p>\n",
       "</div>"
      ],
      "text/plain": [
       "     tercerRepEstado  TercRep\n",
       "0                  0        0\n",
       "1                  0        0\n",
       "2                  0        0\n",
       "3                  0        0\n",
       "4                  0        0\n",
       "..               ...      ...\n",
       "120                1        1\n",
       "121                0        0\n",
       "122                1        4\n",
       "123                0        0\n",
       "124                0        0\n",
       "\n",
       "[124 rows x 2 columns]"
      ]
     },
     "execution_count": 69,
     "metadata": {},
     "output_type": "execute_result"
    }
   ],
   "source": [
    "dt['tercerRepEstado']=dt.TercRep.apply(lambda x: 1 if x>0 else 0)\n",
    "dt[['tercerRepEstado','TercRep']]\n",
    "#dt.TercRep=dt.TercRep.apply(lambda x: )"
   ]
  },
  {
   "cell_type": "code",
   "execution_count": 70,
   "metadata": {
    "colab": {
     "base_uri": "https://localhost:8080/",
     "height": 0
    },
    "colab_type": "code",
    "id": "So5-w9q-jq8q",
    "outputId": "1ab9b46f-6713-4d56-ed6c-e84a4b86bfe7"
   },
   "outputs": [
    {
     "data": {
      "text/html": [
       "<div>\n",
       "<style scoped>\n",
       "    .dataframe tbody tr th:only-of-type {\n",
       "        vertical-align: middle;\n",
       "    }\n",
       "\n",
       "    .dataframe tbody tr th {\n",
       "        vertical-align: top;\n",
       "    }\n",
       "\n",
       "    .dataframe thead th {\n",
       "        text-align: right;\n",
       "    }\n",
       "</style>\n",
       "<table border=\"1\" class=\"dataframe\">\n",
       "  <thead>\n",
       "    <tr style=\"text-align: right;\">\n",
       "      <th></th>\n",
       "      <th>segunRepEstado</th>\n",
       "      <th>SegRep</th>\n",
       "    </tr>\n",
       "  </thead>\n",
       "  <tbody>\n",
       "    <tr>\n",
       "      <th>0</th>\n",
       "      <td>0</td>\n",
       "      <td>0</td>\n",
       "    </tr>\n",
       "    <tr>\n",
       "      <th>1</th>\n",
       "      <td>1</td>\n",
       "      <td>1</td>\n",
       "    </tr>\n",
       "    <tr>\n",
       "      <th>2</th>\n",
       "      <td>1</td>\n",
       "      <td>1</td>\n",
       "    </tr>\n",
       "    <tr>\n",
       "      <th>3</th>\n",
       "      <td>0</td>\n",
       "      <td>0</td>\n",
       "    </tr>\n",
       "    <tr>\n",
       "      <th>4</th>\n",
       "      <td>0</td>\n",
       "      <td>0</td>\n",
       "    </tr>\n",
       "    <tr>\n",
       "      <th>...</th>\n",
       "      <td>...</td>\n",
       "      <td>...</td>\n",
       "    </tr>\n",
       "    <tr>\n",
       "      <th>120</th>\n",
       "      <td>1</td>\n",
       "      <td>2</td>\n",
       "    </tr>\n",
       "    <tr>\n",
       "      <th>121</th>\n",
       "      <td>0</td>\n",
       "      <td>0</td>\n",
       "    </tr>\n",
       "    <tr>\n",
       "      <th>122</th>\n",
       "      <td>1</td>\n",
       "      <td>4</td>\n",
       "    </tr>\n",
       "    <tr>\n",
       "      <th>123</th>\n",
       "      <td>0</td>\n",
       "      <td>0</td>\n",
       "    </tr>\n",
       "    <tr>\n",
       "      <th>124</th>\n",
       "      <td>0</td>\n",
       "      <td>0</td>\n",
       "    </tr>\n",
       "  </tbody>\n",
       "</table>\n",
       "<p>124 rows × 2 columns</p>\n",
       "</div>"
      ],
      "text/plain": [
       "     segunRepEstado  SegRep\n",
       "0                 0       0\n",
       "1                 1       1\n",
       "2                 1       1\n",
       "3                 0       0\n",
       "4                 0       0\n",
       "..              ...     ...\n",
       "120               1       2\n",
       "121               0       0\n",
       "122               1       4\n",
       "123               0       0\n",
       "124               0       0\n",
       "\n",
       "[124 rows x 2 columns]"
      ]
     },
     "execution_count": 70,
     "metadata": {},
     "output_type": "execute_result"
    }
   ],
   "source": [
    "dt['segunRepEstado']=dt.SegRep.apply(lambda x: 1 if x>0 else 0)\n",
    "dt[['segunRepEstado','SegRep']]"
   ]
  },
  {
   "cell_type": "markdown",
   "metadata": {
    "colab_type": "text",
    "id": "O9a3WJXajq8t"
   },
   "source": [
    "# Sacar cruce de tipo de colegio y 3ra repitencia...tambien con edad, distrito(agrupar por conos )"
   ]
  },
  {
   "cell_type": "code",
   "execution_count": 71,
   "metadata": {
    "colab": {
     "base_uri": "https://localhost:8080/",
     "height": 173
    },
    "colab_type": "code",
    "id": "oSc5D9eGjq8t",
    "outputId": "aefadf52-c92b-465b-a0ca-820809b91b47"
   },
   "outputs": [
    {
     "data": {
      "text/html": [
       "<div>\n",
       "<style scoped>\n",
       "    .dataframe tbody tr th:only-of-type {\n",
       "        vertical-align: middle;\n",
       "    }\n",
       "\n",
       "    .dataframe tbody tr th {\n",
       "        vertical-align: top;\n",
       "    }\n",
       "\n",
       "    .dataframe thead th {\n",
       "        text-align: right;\n",
       "    }\n",
       "</style>\n",
       "<table border=\"1\" class=\"dataframe\">\n",
       "  <thead>\n",
       "    <tr style=\"text-align: right;\">\n",
       "      <th>TipoCole</th>\n",
       "      <th>NACIONAL</th>\n",
       "      <th>PARROQUIAL</th>\n",
       "      <th>PARTICULAR</th>\n",
       "      <th>All</th>\n",
       "    </tr>\n",
       "    <tr>\n",
       "      <th>tercerRepEstado</th>\n",
       "      <th></th>\n",
       "      <th></th>\n",
       "      <th></th>\n",
       "      <th></th>\n",
       "    </tr>\n",
       "  </thead>\n",
       "  <tbody>\n",
       "    <tr>\n",
       "      <th>0</th>\n",
       "      <td>29</td>\n",
       "      <td>11</td>\n",
       "      <td>38</td>\n",
       "      <td>78</td>\n",
       "    </tr>\n",
       "    <tr>\n",
       "      <th>1</th>\n",
       "      <td>23</td>\n",
       "      <td>4</td>\n",
       "      <td>19</td>\n",
       "      <td>46</td>\n",
       "    </tr>\n",
       "    <tr>\n",
       "      <th>All</th>\n",
       "      <td>52</td>\n",
       "      <td>15</td>\n",
       "      <td>57</td>\n",
       "      <td>124</td>\n",
       "    </tr>\n",
       "  </tbody>\n",
       "</table>\n",
       "</div>"
      ],
      "text/plain": [
       "TipoCole         NACIONAL  PARROQUIAL  PARTICULAR  All\n",
       "tercerRepEstado                                       \n",
       "0                      29          11          38   78\n",
       "1                      23           4          19   46\n",
       "All                    52          15          57  124"
      ]
     },
     "execution_count": 71,
     "metadata": {},
     "output_type": "execute_result"
    }
   ],
   "source": [
    "pd.crosstab(index=dt.tercerRepEstado,columns=dt['TipoCole'],margins=True)"
   ]
  },
  {
   "cell_type": "code",
   "execution_count": 72,
   "metadata": {
    "colab": {
     "base_uri": "https://localhost:8080/",
     "height": 153
    },
    "colab_type": "code",
    "id": "tVDDKCIqjq8u",
    "outputId": "ebf81334-ceb1-44c3-a04a-a2c74509e342"
   },
   "outputs": [
    {
     "data": {
      "text/plain": [
       "Index(['Codigo', 'AnioNac', 'Sexo', 'Resid', 'TipoCole', 'TipoIngres',\n",
       "       'PuntajeIngre', 'PrimRep', 'SegRep', 'TercRep', 'Mas3Rep', 'EduMadre',\n",
       "       'EduPadre', 'OcuPadre', 'OcuMadre', 'ClaseSoc', 'TempViajeUni',\n",
       "       'NumHermano', 'HermanoEstSup', 'PrepaAcademia', 'TempPrepAcadem',\n",
       "       'EdadIngreso', 'AporteEcono', 'TrabajoUniversi1Anio', 'SatisfCalidad',\n",
       "       'VocacionXpresion', 'CiudNac', 'PadreSep', 'ProbFamiliFreq', 'Edad',\n",
       "       'tercerRepEstado', 'segunRepEstado'],\n",
       "      dtype='object')"
      ]
     },
     "execution_count": 72,
     "metadata": {},
     "output_type": "execute_result"
    }
   ],
   "source": [
    "dt.columns"
   ]
  },
  {
   "cell_type": "code",
   "execution_count": 73,
   "metadata": {
    "colab": {
     "base_uri": "https://localhost:8080/",
     "height": 281
    },
    "colab_type": "code",
    "id": "mWBl_2hGjq8w",
    "outputId": "d1965d43-1df2-4835-e7cc-80780569e9b0"
   },
   "outputs": [
    {
     "data": {
      "image/png": "[encoded data removed]",
      "text/plain": [
       "<Figure size 432x288 with 1 Axes>"
      ]
     },
     "metadata": {
      "needs_background": "light"
     },
     "output_type": "display_data"
    }
   ],
   "source": [
    "#Histograma de  edad de alumnos con tercera repitencia \n",
    "dt[dt['tercerRepEstado']==1].hist(column='EdadIngreso',  color='blue',bins=40)\n",
    "matplotlib.pyplot.show()"
   ]
  },
  {
   "cell_type": "code",
   "execution_count": 74,
   "metadata": {
    "colab": {
     "base_uri": "https://localhost:8080/",
     "height": 336
    },
    "colab_type": "code",
    "id": "E0c_sJ3Yjq8x",
    "outputId": "7d452248-d5ff-4d01-95e3-cb35c5e6d263"
   },
   "outputs": [
    {
     "data": {
      "text/plain": [
       "<AxesSubplot:>"
      ]
     },
     "execution_count": 74,
     "metadata": {},
     "output_type": "execute_result"
    },
    {
     "data": {
      "image/png": "[encoded data removed]",
      "text/plain": [
       "<Figure size 432x288 with 1 Axes>"
      ]
     },
     "metadata": {
      "needs_background": "light"
     },
     "output_type": "display_data"
    }
   ],
   "source": [
    "dt[dt['tercerRepEstado']==1].TipoCole.value_counts().plot(kind='bar')"
   ]
  },
  {
   "cell_type": "code",
   "execution_count": 75,
   "metadata": {
    "colab": {
     "base_uri": "https://localhost:8080/",
     "height": 350
    },
    "colab_type": "code",
    "id": "-mnpRZGDjq8y",
    "outputId": "3cba3dc2-c721-44f3-d451-bb5120af8bb5"
   },
   "outputs": [
    {
     "data": {
      "text/plain": [
       "<AxesSubplot:xlabel='TipoCole'>"
      ]
     },
     "execution_count": 75,
     "metadata": {},
     "output_type": "execute_result"
    },
    {
     "data": {
      "image/png": "[encoded data removed]",
      "text/plain": [
       "<Figure size 432x288 with 1 Axes>"
      ]
     },
     "metadata": {
      "needs_background": "light"
     },
     "output_type": "display_data"
    }
   ],
   "source": [
    "tab=pd.crosstab(index=dt['TipoCole'],columns=dt['tercerRepEstado']).plot(kind='bar')\n",
    "tab.legend(['No 3ra rep','Si 3ra rep'])\n",
    "tab"
   ]
  },
  {
   "cell_type": "code",
   "execution_count": 76,
   "metadata": {
    "colab": {
     "base_uri": "https://localhost:8080/",
     "height": 350
    },
    "colab_type": "code",
    "id": "w5vhd8Ytjq80",
    "outputId": "6901f9f9-3c88-49bf-fa63-565948808d2c"
   },
   "outputs": [
    {
     "data": {
      "text/plain": [
       "<AxesSubplot:xlabel='TipoCole'>"
      ]
     },
     "execution_count": 76,
     "metadata": {},
     "output_type": "execute_result"
    },
    {
     "data": {
      "image/png": "[encoded data removed]",
      "text/plain": [
       "<Figure size 432x288 with 1 Axes>"
      ]
     },
     "metadata": {
      "needs_background": "light"
     },
     "output_type": "display_data"
    }
   ],
   "source": [
    "tab=pd.crosstab(index=dt['TipoCole'],columns=dt['segunRepEstado']).plot(kind='bar')\n",
    "tab.legend(['No 3ra rep','Si 3ra rep'])\n",
    "tab"
   ]
  },
  {
   "cell_type": "code",
   "execution_count": 77,
   "metadata": {
    "colab": {
     "base_uri": "https://localhost:8080/",
     "height": 396
    },
    "colab_type": "code",
    "id": "-p-GM5SYjq81",
    "outputId": "9cf3421b-be4a-43da-b5fa-7892d96186ed"
   },
   "outputs": [
    {
     "data": {
      "text/plain": [
       "<AxesSubplot:xlabel='TempViajeUni'>"
      ]
     },
     "execution_count": 77,
     "metadata": {},
     "output_type": "execute_result"
    },
    {
     "data": {
      "image/png": "[encoded data removed]",
      "text/plain": [
       "<Figure size 432x288 with 1 Axes>"
      ]
     },
     "metadata": {
      "needs_background": "light"
     },
     "output_type": "display_data"
    }
   ],
   "source": [
    "tab=pd.crosstab(index=dt['TempViajeUni'],columns=dt['segunRepEstado']).plot(kind='bar')\n",
    "tab.legend(['No 3ra rep','Si 3ra rep'])\n",
    "tab"
   ]
  },
  {
   "cell_type": "code",
   "execution_count": 78,
   "metadata": {
    "colab": {
     "base_uri": "https://localhost:8080/",
     "height": 300
    },
    "colab_type": "code",
    "id": "-u96N574jq82",
    "outputId": "38adc6bc-ce07-49a8-b8ef-bccbe9445ec8"
   },
   "outputs": [
    {
     "data": {
      "text/plain": [
       "<AxesSubplot:xlabel='ProbFamiliFreq'>"
      ]
     },
     "execution_count": 78,
     "metadata": {},
     "output_type": "execute_result"
    },
    {
     "data": {
      "image/png": "[encoded data removed]",
      "text/plain": [
       "<Figure size 432x288 with 1 Axes>"
      ]
     },
     "metadata": {
      "needs_background": "light"
     },
     "output_type": "display_data"
    }
   ],
   "source": [
    "tab=pd.crosstab(index=dt['ProbFamiliFreq'],columns=dt['tercerRepEstado']).plot(kind='bar')\n",
    "tab.legend(['No 2ra rep','Si 2ra rep'])\n",
    "tab"
   ]
  },
  {
   "cell_type": "code",
   "execution_count": 79,
   "metadata": {
    "colab": {
     "base_uri": "https://localhost:8080/",
     "height": 685
    },
    "colab_type": "code",
    "id": "OyCYjRkcjq83",
    "outputId": "41f69e69-1968-4e89-d54a-1eef0834eaea"
   },
   "outputs": [
    {
     "data": {
      "text/plain": [
       "<matplotlib.legend.Legend at 0x7aef544c40>"
      ]
     },
     "execution_count": 79,
     "metadata": {},
     "output_type": "execute_result"
    },
    {
     "data": {
      "image/png": "[encoded data removed]",
      "text/plain": [
       "<Figure size 432x288 with 1 Axes>"
      ]
     },
     "metadata": {
      "needs_background": "light"
     },
     "output_type": "display_data"
    }
   ],
   "source": [
    "tab=pd.crosstab(index=dt['OcuPadre'],columns=dt['tercerRepEstado']).plot(kind='bar')\n",
    "tab.legend(['No 3ra rep','Si 3ra rep'])"
   ]
  },
  {
   "cell_type": "code",
   "execution_count": 80,
   "metadata": {
    "colab": {
     "base_uri": "https://localhost:8080/",
     "height": 762
    },
    "colab_type": "code",
    "id": "aCO8gjlZjq85",
    "outputId": "fbc7215b-6c9e-4945-88a9-0e4d7ae5f351"
   },
   "outputs": [
    {
     "data": {
      "text/plain": [
       "<matplotlib.legend.Legend at 0x7aef5cba00>"
      ]
     },
     "execution_count": 80,
     "metadata": {},
     "output_type": "execute_result"
    },
    {
     "data": {
      "image/png": "[encoded data removed]",
      "text/plain": [
       "<Figure size 432x288 with 1 Axes>"
      ]
     },
     "metadata": {
      "needs_background": "light"
     },
     "output_type": "display_data"
    }
   ],
   "source": [
    "tab=pd.crosstab(index=dt['OcuMadre'],columns=dt['tercerRepEstado']).plot(kind='bar')\n",
    "tab.legend(['No 3ra-rep','Si 3ra-rep'])"
   ]
  },
  {
   "cell_type": "code",
   "execution_count": 0,
   "metadata": {
    "colab": {},
    "colab_type": "code",
    "id": "yVCQLEj2jq86"
   },
   "outputs": [],
   "source": []
  }
 ],
 "metadata": {
  "colab": {
   "include_colab_link": true,
   "name": "Untitled.ipynb",
   "provenance": []
  },
  "kernelspec": {
   "display_name": "Python 3",
   "language": "python",
   "name": "python3"
  },
  "language_info": {
   "codemirror_mode": {
    "name": "ipython",
    "version": 3
   },
   "file_extension": ".py",
   "mimetype": "text/x-python",
   "name": "python",
   "nbconvert_exporter": "python",
   "pygments_lexer": "ipython3",
   "version": "3.8.3"
  }
 },
 "nbformat": 4,
 "nbformat_minor": 1
}
